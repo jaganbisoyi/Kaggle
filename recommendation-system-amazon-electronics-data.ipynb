{
 "cells": [
  {
   "cell_type": "code",
   "execution_count": 1,
   "metadata": {
    "_cell_guid": "b1076dfc-b9ad-4769-8c92-a6c4dae69d19",
    "_uuid": "8f2839f25d086af736a60e9eeb907d3b93b6e0e5",
    "execution": {
     "iopub.execute_input": "2020-09-20T18:35:49.098862Z",
     "iopub.status.busy": "2020-09-20T18:35:49.098062Z",
     "iopub.status.idle": "2020-09-20T18:35:49.107887Z",
     "shell.execute_reply": "2020-09-20T18:35:49.106874Z"
    },
    "papermill": {
     "duration": 0.054605,
     "end_time": "2020-09-20T18:35:49.108053",
     "exception": false,
     "start_time": "2020-09-20T18:35:49.053448",
     "status": "completed"
    },
    "tags": []
   },
   "outputs": [
    {
     "name": "stdout",
     "output_type": "stream",
     "text": [
      "/kaggle/input/amazon-product-reviews/ratings_Electronics (1).csv\n"
     ]
    }
   ],
   "source": [
    "# This Python 3 environment comes with many helpful analytics libraries installed\n",
    "# It is defined by the kaggle/python Docker image: https://github.com/kaggle/docker-python\n",
    "# For example, here's several helpful packages to load\n",
    "\n",
    "import numpy as np # linear algebra\n",
    "import pandas as pd # data processing, CSV file I/O (e.g. pd.read_csv)\n",
    "\n",
    "# Input data files are available in the read-only \"../input/\" directory\n",
    "# For example, running this (by clicking run or pressing Shift+Enter) will list all files under the input directory\n",
    "\n",
    "import os\n",
    "for dirname, _, filenames in os.walk('/kaggle/input'):\n",
    "    for filename in filenames:\n",
    "        print(os.path.join(dirname, filename))\n",
    "\n",
    "# You can write up to 5GB to the current directory (/kaggle/working/) that gets preserved as output when you create a version using \"Save & Run All\" \n",
    "# You can also write temporary files to /kaggle/temp/, but they won't be saved outside of the current session"
   ]
  },
  {
   "cell_type": "code",
   "execution_count": 2,
   "metadata": {
    "execution": {
     "iopub.execute_input": "2020-09-20T18:35:49.191751Z",
     "iopub.status.busy": "2020-09-20T18:35:49.190881Z",
     "iopub.status.idle": "2020-09-20T18:35:50.121455Z",
     "shell.execute_reply": "2020-09-20T18:35:50.120728Z"
    },
    "papermill": {
     "duration": 0.974537,
     "end_time": "2020-09-20T18:35:50.121580",
     "exception": false,
     "start_time": "2020-09-20T18:35:49.147043",
     "status": "completed"
    },
    "tags": []
   },
   "outputs": [],
   "source": [
    "from IPython.core.display import display, HTML\n",
"display(HTML('<h1>Hello, world!</h1>')) \n",\n",\n",
"<a href="https://colab.research.google.com/github/googlecolab/colabtools/blob/master/notebooks/recommendation-system-amazon-electronics-data.ipynb">\n",\n",
 "<img src="https://colab.research.google.com/assets/colab-badge.svg" alt="Open In Colab"/>\n",
   "</a>\n",
    "import pandas as pd\n",
    "import numpy as np\n",
    "import seaborn as sns\n",
    "import matplotlib.pyplot as plt\n",
    "sns.set(color_codes=True)\n",
    "%matplotlib inline\n",
    "import warnings\n",
    "warnings.filterwarnings('ignore')"
   ]
  },
  {
   "cell_type": "code",
   "execution_count": 3,
   "metadata": {
    "_cell_guid": "79c7e3d0-c299-4dcb-8224-4455121ee9b0",
    "_uuid": "d629ff2d2480ee46fbb7e2d37f6b5fab8052498a",
    "execution": {
     "iopub.execute_input": "2020-09-20T18:35:50.202841Z",
     "iopub.status.busy": "2020-09-20T18:35:50.202075Z",
     "iopub.status.idle": "2020-09-20T18:35:58.696918Z",
     "shell.execute_reply": "2020-09-20T18:35:58.697519Z"
    },
    "papermill": {
     "duration": 8.538967,
     "end_time": "2020-09-20T18:35:58.697671",
     "exception": false,
     "start_time": "2020-09-20T18:35:50.158704",
     "status": "completed"
    },
    "tags": []
   },
   "outputs": [
    {
     "name": "stdout",
     "output_type": "stream",
     "text": [
      "<class 'pandas.core.frame.DataFrame'>\n",
      "RangeIndex: 7824482 entries, 0 to 7824481\n",
      "Data columns (total 4 columns):\n",
      " #   Column     Dtype  \n",
      "---  ------     -----  \n",
      " 0   userid     object \n",
      " 1   productid  object \n",
      " 2   rating     float64\n",
      " 3   timestamp  int64  \n",
      "dtypes: float64(1), int64(1), object(2)\n",
      "memory usage: 238.8+ MB\n"
     ]
    },
    {
     "data": {
      "text/plain": [
       "(7824482, 4)"
      ]
     },
     "execution_count": 3,
     "metadata": {},
     "output_type": "execute_result"
    }
   ],
   "source": [
    "data_set=pd.read_csv(\"/kaggle/input/amazon-product-reviews/ratings_Electronics (1).csv\",names=['userid', 'productid','rating','timestamp'])\n",
    "data_set.info()\n",
    "data_set.shape"
   ]
  },
  {
   "cell_type": "markdown",
   "metadata": {
    "papermill": {
     "duration": 0.036297,
     "end_time": "2020-09-20T18:35:58.771327",
     "exception": false,
     "start_time": "2020-09-20T18:35:58.735030",
     "status": "completed"
    },
    "tags": []
   },
   "source": [
    "# **EDA**"
   ]
  },
  {
   "cell_type": "code",
   "execution_count": 4,
   "metadata": {
    "execution": {
     "iopub.execute_input": "2020-09-20T18:35:59.039394Z",
     "iopub.status.busy": "2020-09-20T18:35:58.926938Z",
     "iopub.status.idle": "2020-09-20T18:35:59.957580Z",
     "shell.execute_reply": "2020-09-20T18:35:59.956813Z"
    },
    "papermill": {
     "duration": 1.149345,
     "end_time": "2020-09-20T18:35:59.957709",
     "exception": false,
     "start_time": "2020-09-20T18:35:58.808364",
     "status": "completed"
    },
    "tags": []
   },
   "outputs": [],
   "source": [
    "data_set_buffer = data_set.drop('timestamp',axis=1)\n",
    "#consider only 10% of the data\n",
    "data_set_buffer = data_set_buffer.sample(frac=0.1)\n",
    "del data_set"
   ]
  },
  {
   "cell_type": "code",
   "execution_count": 5,
   "metadata": {
    "execution": {
     "iopub.execute_input": "2020-09-20T18:36:00.044123Z",
     "iopub.status.busy": "2020-09-20T18:36:00.043052Z",
     "iopub.status.idle": "2020-09-20T18:36:00.052854Z",
     "shell.execute_reply": "2020-09-20T18:36:00.052138Z"
    },
    "papermill": {
     "duration": 0.057927,
     "end_time": "2020-09-20T18:36:00.052975",
     "exception": false,
     "start_time": "2020-09-20T18:35:59.995048",
     "status": "completed"
    },
    "tags": []
   },
   "outputs": [
    {
     "data": {
      "text/html": [
       "<div>\n",
       "<style scoped>\n",
       "    .dataframe tbody tr th:only-of-type {\n",
       "        vertical-align: middle;\n",
       "    }\n",
       "\n",
       "    .dataframe tbody tr th {\n",
       "        vertical-align: top;\n",
       "    }\n",
       "\n",
       "    .dataframe thead th {\n",
       "        text-align: right;\n",
       "    }\n",
       "</style>\n",
       "<table border=\"1\" class=\"dataframe\">\n",
       "  <thead>\n",
       "    <tr style=\"text-align: right;\">\n",
       "      <th></th>\n",
       "      <th>6929189</th>\n",
       "      <th>62729</th>\n",
       "      <th>1558071</th>\n",
       "      <th>6950996</th>\n",
       "      <th>4913190</th>\n",
       "    </tr>\n",
       "  </thead>\n",
       "  <tbody>\n",
       "    <tr>\n",
       "      <th>userid</th>\n",
       "      <td>A3PVMVF5NM96L2</td>\n",
       "      <td>A2GOU4Q7RT4RSX</td>\n",
       "      <td>A2NE8TDHOXP3ND</td>\n",
       "      <td>A3BVCWFO39RB2Q</td>\n",
       "      <td>A5AQZ32F8K93</td>\n",
       "    </tr>\n",
       "    <tr>\n",
       "      <th>productid</th>\n",
       "      <td>B00AOS3CNU</td>\n",
       "      <td>B00004Y7TC</td>\n",
       "      <td>B0010T1OYG</td>\n",
       "      <td>B00AT74VOU</td>\n",
       "      <td>B005FRCXNK</td>\n",
       "    </tr>\n",
       "    <tr>\n",
       "      <th>rating</th>\n",
       "      <td>5</td>\n",
       "      <td>4</td>\n",
       "      <td>3</td>\n",
       "      <td>5</td>\n",
       "      <td>5</td>\n",
       "    </tr>\n",
       "  </tbody>\n",
       "</table>\n",
       "</div>"
      ],
      "text/plain": [
       "                  6929189         62729           1558071         6950996  \\\n",
       "userid     A3PVMVF5NM96L2  A2GOU4Q7RT4RSX  A2NE8TDHOXP3ND  A3BVCWFO39RB2Q   \n",
       "productid      B00AOS3CNU      B00004Y7TC      B0010T1OYG      B00AT74VOU   \n",
       "rating                  5               4               3               5   \n",
       "\n",
       "                4913190  \n",
       "userid     A5AQZ32F8K93  \n",
       "productid    B005FRCXNK  \n",
       "rating                5  "
      ]
     },
     "execution_count": 5,
     "metadata": {},
     "output_type": "execute_result"
    }
   ],
   "source": [
    "data_set_buffer.head().T"
   ]
  },
  {
   "cell_type": "code",
   "execution_count": 6,
   "metadata": {
    "execution": {
     "iopub.execute_input": "2020-09-20T18:36:00.399817Z",
     "iopub.status.busy": "2020-09-20T18:36:00.399046Z",
     "iopub.status.idle": "2020-09-20T18:36:00.676288Z",
     "shell.execute_reply": "2020-09-20T18:36:00.675348Z"
    },
    "papermill": {
     "duration": 0.584949,
     "end_time": "2020-09-20T18:36:00.676449",
     "exception": false,
     "start_time": "2020-09-20T18:36:00.091500",
     "status": "completed"
    },
    "tags": []
   },
   "outputs": [
    {
     "name": "stdout",
     "output_type": "stream",
     "text": [
      "userid       0\n",
      "productid    0\n",
      "rating       0\n",
      "dtype: int64\n",
      "userid       0\n",
      "productid    0\n",
      "rating       0\n",
      "dtype: int64\n"
     ]
    }
   ],
   "source": [
    "#print missing value\n",
    "print(data_set_buffer.isna().sum())\n",
    "print(data_set_buffer.isnull().sum())"
   ]
  },
  {
   "cell_type": "code",
   "execution_count": 7,
   "metadata": {
    "execution": {
     "iopub.execute_input": "2020-09-20T18:36:00.765344Z",
     "iopub.status.busy": "2020-09-20T18:36:00.764581Z",
     "iopub.status.idle": "2020-09-20T18:36:00.813317Z",
     "shell.execute_reply": "2020-09-20T18:36:00.812580Z"
    },
    "papermill": {
     "duration": 0.097681,
     "end_time": "2020-09-20T18:36:00.813437",
     "exception": false,
     "start_time": "2020-09-20T18:36:00.715756",
     "status": "completed"
    },
    "tags": []
   },
   "outputs": [
    {
     "data": {
      "text/html": [
       "<div>\n",
       "<style scoped>\n",
       "    .dataframe tbody tr th:only-of-type {\n",
       "        vertical-align: middle;\n",
       "    }\n",
       "\n",
       "    .dataframe tbody tr th {\n",
       "        vertical-align: top;\n",
       "    }\n",
       "\n",
       "    .dataframe thead th {\n",
       "        text-align: right;\n",
       "    }\n",
       "</style>\n",
       "<table border=\"1\" class=\"dataframe\">\n",
       "  <thead>\n",
       "    <tr style=\"text-align: right;\">\n",
       "      <th></th>\n",
       "      <th>count</th>\n",
       "      <th>mean</th>\n",
       "      <th>std</th>\n",
       "      <th>min</th>\n",
       "      <th>25%</th>\n",
       "      <th>50%</th>\n",
       "      <th>75%</th>\n",
       "      <th>max</th>\n",
       "    </tr>\n",
       "  </thead>\n",
       "  <tbody>\n",
       "    <tr>\n",
       "      <th>rating</th>\n",
       "      <td>782448.0</td>\n",
       "      <td>4.010937</td>\n",
       "      <td>1.382158</td>\n",
       "      <td>1.0</td>\n",
       "      <td>3.0</td>\n",
       "      <td>5.0</td>\n",
       "      <td>5.0</td>\n",
       "      <td>5.0</td>\n",
       "    </tr>\n",
       "  </tbody>\n",
       "</table>\n",
       "</div>"
      ],
      "text/plain": [
       "           count      mean       std  min  25%  50%  75%  max\n",
       "rating  782448.0  4.010937  1.382158  1.0  3.0  5.0  5.0  5.0"
      ]
     },
     "execution_count": 7,
     "metadata": {},
     "output_type": "execute_result"
    }
   ],
   "source": [
    "data_set_buffer.describe().T"
   ]
  },
  {
   "cell_type": "code",
   "execution_count": 8,
   "metadata": {
    "execution": {
     "iopub.execute_input": "2020-09-20T18:36:00.898367Z",
     "iopub.status.busy": "2020-09-20T18:36:00.897605Z",
     "iopub.status.idle": "2020-09-20T18:36:00.932361Z",
     "shell.execute_reply": "2020-09-20T18:36:00.931516Z"
    },
    "papermill": {
     "duration": 0.079466,
     "end_time": "2020-09-20T18:36:00.932493",
     "exception": false,
     "start_time": "2020-09-20T18:36:00.853027",
     "status": "completed"
    },
    "tags": []
   },
   "outputs": [
    {
     "data": {
      "text/plain": [
       "count    782448.000000\n",
       "mean          4.010937\n",
       "std           1.382158\n",
       "min           1.000000\n",
       "25%           3.000000\n",
       "50%           5.000000\n",
       "75%           5.000000\n",
       "max           5.000000\n",
       "Name: rating, dtype: float64"
      ]
     },
     "execution_count": 8,
     "metadata": {},
     "output_type": "execute_result"
    }
   ],
   "source": [
    "data_set_buffer.rating.describe().T"
   ]
  },
  {
   "cell_type": "code",
   "execution_count": 9,
   "metadata": {
    "execution": {
     "iopub.execute_input": "2020-09-20T18:36:01.100494Z",
     "iopub.status.busy": "2020-09-20T18:36:01.099721Z",
     "iopub.status.idle": "2020-09-20T18:36:04.140599Z",
     "shell.execute_reply": "2020-09-20T18:36:04.141165Z"
    },
    "papermill": {
     "duration": 3.163973,
     "end_time": "2020-09-20T18:36:04.141362",
     "exception": false,
     "start_time": "2020-09-20T18:36:00.977389",
     "status": "completed"
    },
    "tags": []
   },
   "outputs": [
    {
     "data": {
      "text/plain": [
       "userid\n",
       "A5JLAU2ARJ0BO            59\n",
       "ADLVFFE4VBT8             54\n",
       "A3OXHLG6DIBRW8           44\n",
       "A6FIAB28IS79             40\n",
       "A1ODOGXEYECQQ8           39\n",
       "                         ..\n",
       "A3G9XJ39XKWXK4            1\n",
       "A3G9XIDGPLPAXH            1\n",
       "A3G9XIBXS49Y2D            1\n",
       "A3G9XC4LT9TUVX            1\n",
       "A00009182QVLSWIGHLS1B     1\n",
       "Name: rating, Length: 673081, dtype: int64"
      ]
     },
     "execution_count": 9,
     "metadata": {},
     "output_type": "execute_result"
    }
   ],
   "source": [
    "data_set_buffer.groupby('userid')['rating'].count().sort_values(ascending=False)"
   ]
  },
  {
   "cell_type": "code",
   "execution_count": 10,
   "metadata": {
    "execution": {
     "iopub.execute_input": "2020-09-20T18:36:04.245420Z",
     "iopub.status.busy": "2020-09-20T18:36:04.244545Z",
     "iopub.status.idle": "2020-09-20T18:36:04.248733Z",
     "shell.execute_reply": "2020-09-20T18:36:04.247848Z"
    },
    "papermill": {
     "duration": 0.059819,
     "end_time": "2020-09-20T18:36:04.248911",
     "exception": false,
     "start_time": "2020-09-20T18:36:04.189092",
     "status": "completed"
    },
    "tags": []
   },
   "outputs": [],
   "source": [
    "sns.set(style=\"white\", palette=\"tab10\", color_codes=True)"
   ]
  },
  {
   "cell_type": "code",
   "execution_count": 11,
   "metadata": {
    "execution": {
     "iopub.execute_input": "2020-09-20T18:36:04.350854Z",
     "iopub.status.busy": "2020-09-20T18:36:04.350037Z",
     "iopub.status.idle": "2020-09-20T18:36:04.682156Z",
     "shell.execute_reply": "2020-09-20T18:36:04.681567Z"
    },
    "papermill": {
     "duration": 0.381416,
     "end_time": "2020-09-20T18:36:04.682302",
     "exception": false,
     "start_time": "2020-09-20T18:36:04.300886",
     "status": "completed"
    },
    "tags": []
   },
   "outputs": [
    {
     "data": {
      "image/png": "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\n",
      "text/plain": [
       "<Figure size 432x288 with 1 Axes>"
      ]
     },
     "metadata": {},
     "output_type": "display_data"
    }
   ],
   "source": [
    "ax = sns.countplot(data=data_set_buffer,x='rating');\n",
    "ax.set_ylim(0, len(data_set_buffer))\n",
    "ax.set_xlim(0, 5)\n",
    "for p in ax.patches:\n",
    "    height = p.get_height()\n",
    "    ax.text(p.get_x()+p.get_width()/2.,\n",
    "            height + 3,\n",
    "            '{:%}'.format(height/float(len(data_set_buffer))),\n",
    "            ha=\"center\") \n",
    "plt.show();"
   ]
  },
  {
   "cell_type": "markdown",
   "metadata": {
    "papermill": {
     "duration": 0.041476,
     "end_time": "2020-09-20T18:36:04.765414",
     "exception": false,
     "start_time": "2020-09-20T18:36:04.723938",
     "status": "completed"
    },
    "tags": []
   },
   "source": [
    "**Observation : 56% of users have rated 5. So we have highest number of 5 ratings.**"
   ]
  },
  {
   "cell_type": "code",
   "execution_count": 12,
   "metadata": {
    "execution": {
     "iopub.execute_input": "2020-09-20T18:36:04.893711Z",
     "iopub.status.busy": "2020-09-20T18:36:04.892607Z",
     "iopub.status.idle": "2020-09-20T18:36:57.468953Z",
     "shell.execute_reply": "2020-09-20T18:36:57.468332Z"
    },
    "papermill": {
     "duration": 52.661146,
     "end_time": "2020-09-20T18:36:57.469102",
     "exception": false,
     "start_time": "2020-09-20T18:36:04.807956",
     "status": "completed"
    },
    "tags": []
   },
   "outputs": [],
   "source": [
    "data_set_buffer_with_threshold50=data_set_buffer.groupby(\"productid\").filter(lambda x:x['rating'].count() >=50)\n",
    "del data_set_buffer"
   ]
  },
  {
   "cell_type": "markdown",
   "metadata": {
    "papermill": {
     "duration": 0.040861,
     "end_time": "2020-09-20T18:36:57.551833",
     "exception": false,
     "start_time": "2020-09-20T18:36:57.510972",
     "status": "completed"
    },
    "tags": []
   },
   "source": [
    "**keep the users only who has given 50 or more number of ratings**"
   ]
  },
  {
   "cell_type": "code",
   "execution_count": 13,
   "metadata": {
    "execution": {
     "iopub.execute_input": "2020-09-20T18:36:57.645639Z",
     "iopub.status.busy": "2020-09-20T18:36:57.644886Z",
     "iopub.status.idle": "2020-09-20T18:36:57.670635Z",
     "shell.execute_reply": "2020-09-20T18:36:57.670006Z"
    },
    "papermill": {
     "duration": 0.077203,
     "end_time": "2020-09-20T18:36:57.670757",
     "exception": false,
     "start_time": "2020-09-20T18:36:57.593554",
     "status": "completed"
    },
    "tags": []
   },
   "outputs": [
    {
     "data": {
      "text/plain": [
       "productid\n",
       "B0074BW614    1843\n",
       "B00DR0PDNE    1690\n",
       "B007WTAJTO    1472\n",
       "B0019EHU8G    1272\n",
       "B003ELYQGG    1230\n",
       "              ... \n",
       "B003CH5346      50\n",
       "B003CK10DG      50\n",
       "B003CYKYVG      50\n",
       "B003MVMTDA      50\n",
       "B0006ON0QQ      50\n",
       "Name: rating, Length: 1911, dtype: int64"
      ]
     },
     "execution_count": 13,
     "metadata": {},
     "output_type": "execute_result"
    }
   ],
   "source": [
    "data_set_buffer_with_threshold50.groupby('productid')['rating'].count().sort_values(ascending=False)"
   ]
  },
  {
   "cell_type": "markdown",
   "metadata": {
    "papermill": {
     "duration": 0.041395,
     "end_time": "2020-09-20T18:36:57.754686",
     "exception": false,
     "start_time": "2020-09-20T18:36:57.713291",
     "status": "completed"
    },
    "tags": []
   },
   "source": [
    "# **Build Popularity Recommender model**\n",
    "Our definition of popularity : A product with highest average rating meets the basic criteria of atleast reviewed by 50 unique users."
   ]
  },
  {
   "cell_type": "code",
   "execution_count": 14,
   "metadata": {
    "execution": {
     "iopub.execute_input": "2020-09-20T18:36:57.845461Z",
     "iopub.status.busy": "2020-09-20T18:36:57.844694Z",
     "iopub.status.idle": "2020-09-20T18:36:57.994678Z",
     "shell.execute_reply": "2020-09-20T18:36:57.994069Z"
    },
    "papermill": {
     "duration": 0.197656,
     "end_time": "2020-09-20T18:36:57.994803",
     "exception": false,
     "start_time": "2020-09-20T18:36:57.797147",
     "status": "completed"
    },
    "tags": []
   },
   "outputs": [
    {
     "data": {
      "text/html": [
       "<div>\n",
       "<style scoped>\n",
       "    .dataframe tbody tr th:only-of-type {\n",
       "        vertical-align: middle;\n",
       "    }\n",
       "\n",
       "    .dataframe tbody tr th {\n",
       "        vertical-align: top;\n",
       "    }\n",
       "\n",
       "    .dataframe thead th {\n",
       "        text-align: right;\n",
       "    }\n",
       "</style>\n",
       "<table border=\"1\" class=\"dataframe\">\n",
       "  <thead>\n",
       "    <tr style=\"text-align: right;\">\n",
       "      <th></th>\n",
       "      <th>userid</th>\n",
       "      <th>productid</th>\n",
       "      <th>rating</th>\n",
       "    </tr>\n",
       "  </thead>\n",
       "  <tbody>\n",
       "    <tr>\n",
       "      <th>1236124</th>\n",
       "      <td>A34JNPEPINK5KJ</td>\n",
       "      <td>B000O5N5AI</td>\n",
       "      <td>5.0</td>\n",
       "    </tr>\n",
       "    <tr>\n",
       "      <th>7605700</th>\n",
       "      <td>ASWBZTC8EZW1M</td>\n",
       "      <td>B00F5NB7JK</td>\n",
       "      <td>5.0</td>\n",
       "    </tr>\n",
       "    <tr>\n",
       "      <th>446104</th>\n",
       "      <td>A37VFTRE3WI3O9</td>\n",
       "      <td>B0002AHT0M</td>\n",
       "      <td>5.0</td>\n",
       "    </tr>\n",
       "    <tr>\n",
       "      <th>482580</th>\n",
       "      <td>AE4EJL5PZTT5O</td>\n",
       "      <td>B0002KVQBA</td>\n",
       "      <td>4.0</td>\n",
       "    </tr>\n",
       "    <tr>\n",
       "      <th>4449956</th>\n",
       "      <td>AGCFSDR9YW4HD</td>\n",
       "      <td>B004T1YAEI</td>\n",
       "      <td>5.0</td>\n",
       "    </tr>\n",
       "  </tbody>\n",
       "</table>\n",
       "</div>"
      ],
      "text/plain": [
       "                 userid   productid  rating\n",
       "1236124  A34JNPEPINK5KJ  B000O5N5AI     5.0\n",
       "7605700   ASWBZTC8EZW1M  B00F5NB7JK     5.0\n",
       "446104   A37VFTRE3WI3O9  B0002AHT0M     5.0\n",
       "482580    AE4EJL5PZTT5O  B0002KVQBA     4.0\n",
       "4449956   AGCFSDR9YW4HD  B004T1YAEI     5.0"
      ]
     },
     "execution_count": 14,
     "metadata": {},
     "output_type": "execute_result"
    }
   ],
   "source": [
    "from sklearn.model_selection import train_test_split\n",
    "train_data, test_data = train_test_split(data_set_buffer_with_threshold50, test_size = 0.3, random_state=0)\n",
    "train_data.head()"
   ]
  },
  {
   "cell_type": "code",
   "execution_count": 15,
   "metadata": {
    "execution": {
     "iopub.execute_input": "2020-09-20T18:36:58.094415Z",
     "iopub.status.busy": "2020-09-20T18:36:58.093660Z",
     "iopub.status.idle": "2020-09-20T18:36:58.150467Z",
     "shell.execute_reply": "2020-09-20T18:36:58.149857Z"
    },
    "papermill": {
     "duration": 0.112649,
     "end_time": "2020-09-20T18:36:58.150605",
     "exception": false,
     "start_time": "2020-09-20T18:36:58.037956",
     "status": "completed"
    },
    "tags": []
   },
   "outputs": [
    {
     "data": {
      "text/html": [
       "<div>\n",
       "<style scoped>\n",
       "    .dataframe tbody tr th:only-of-type {\n",
       "        vertical-align: middle;\n",
       "    }\n",
       "\n",
       "    .dataframe tbody tr th {\n",
       "        vertical-align: top;\n",
       "    }\n",
       "\n",
       "    .dataframe thead th {\n",
       "        text-align: right;\n",
       "    }\n",
       "</style>\n",
       "<table border=\"1\" class=\"dataframe\">\n",
       "  <thead>\n",
       "    <tr style=\"text-align: right;\">\n",
       "      <th></th>\n",
       "      <th>productid</th>\n",
       "      <th>noofusers</th>\n",
       "    </tr>\n",
       "  </thead>\n",
       "  <tbody>\n",
       "    <tr>\n",
       "      <th>0</th>\n",
       "      <td>0972683275</td>\n",
       "      <td>86</td>\n",
       "    </tr>\n",
       "    <tr>\n",
       "      <th>1</th>\n",
       "      <td>1400532655</td>\n",
       "      <td>44</td>\n",
       "    </tr>\n",
       "    <tr>\n",
       "      <th>2</th>\n",
       "      <td>B00001P4XA</td>\n",
       "      <td>40</td>\n",
       "    </tr>\n",
       "    <tr>\n",
       "      <th>3</th>\n",
       "      <td>B00001P4ZH</td>\n",
       "      <td>155</td>\n",
       "    </tr>\n",
       "    <tr>\n",
       "      <th>4</th>\n",
       "      <td>B00001WRSJ</td>\n",
       "      <td>127</td>\n",
       "    </tr>\n",
       "  </tbody>\n",
       "</table>\n",
       "</div>"
      ],
      "text/plain": [
       "    productid  noofusers\n",
       "0  0972683275         86\n",
       "1  1400532655         44\n",
       "2  B00001P4XA         40\n",
       "3  B00001P4ZH        155\n",
       "4  B00001WRSJ        127"
      ]
     },
     "execution_count": 15,
     "metadata": {},
     "output_type": "execute_result"
    }
   ],
   "source": [
    "#Count no of user_id for each unique product as recommendation score \n",
    "train_data_grouped = train_data.groupby('productid').agg({'userid': 'count'}).reset_index()\n",
    "train_data_grouped.rename(columns = {'userid': 'noofusers'},inplace=True)\n",
    "train_data_grouped.head()"
   ]
  },
  {
   "cell_type": "code",
   "execution_count": 16,
   "metadata": {
    "execution": {
     "iopub.execute_input": "2020-09-20T18:36:58.250995Z",
     "iopub.status.busy": "2020-09-20T18:36:58.250205Z",
     "iopub.status.idle": "2020-09-20T18:36:58.279951Z",
     "shell.execute_reply": "2020-09-20T18:36:58.279262Z"
    },
    "papermill": {
     "duration": 0.084403,
     "end_time": "2020-09-20T18:36:58.280076",
     "exception": false,
     "start_time": "2020-09-20T18:36:58.195673",
     "status": "completed"
    },
    "tags": []
   },
   "outputs": [
    {
     "data": {
      "text/html": [
       "<div>\n",
       "<style scoped>\n",
       "    .dataframe tbody tr th:only-of-type {\n",
       "        vertical-align: middle;\n",
       "    }\n",
       "\n",
       "    .dataframe tbody tr th {\n",
       "        vertical-align: top;\n",
       "    }\n",
       "\n",
       "    .dataframe thead th {\n",
       "        text-align: right;\n",
       "    }\n",
       "</style>\n",
       "<table border=\"1\" class=\"dataframe\">\n",
       "  <thead>\n",
       "    <tr style=\"text-align: right;\">\n",
       "      <th></th>\n",
       "      <th>productid</th>\n",
       "      <th>ratingsum</th>\n",
       "    </tr>\n",
       "  </thead>\n",
       "  <tbody>\n",
       "    <tr>\n",
       "      <th>0</th>\n",
       "      <td>0972683275</td>\n",
       "      <td>387.0</td>\n",
       "    </tr>\n",
       "    <tr>\n",
       "      <th>1</th>\n",
       "      <td>1400532655</td>\n",
       "      <td>160.0</td>\n",
       "    </tr>\n",
       "    <tr>\n",
       "      <th>2</th>\n",
       "      <td>B00001P4XA</td>\n",
       "      <td>154.0</td>\n",
       "    </tr>\n",
       "    <tr>\n",
       "      <th>3</th>\n",
       "      <td>B00001P4ZH</td>\n",
       "      <td>699.0</td>\n",
       "    </tr>\n",
       "    <tr>\n",
       "      <th>4</th>\n",
       "      <td>B00001WRSJ</td>\n",
       "      <td>594.0</td>\n",
       "    </tr>\n",
       "  </tbody>\n",
       "</table>\n",
       "</div>"
      ],
      "text/plain": [
       "    productid  ratingsum\n",
       "0  0972683275      387.0\n",
       "1  1400532655      160.0\n",
       "2  B00001P4XA      154.0\n",
       "3  B00001P4ZH      699.0\n",
       "4  B00001WRSJ      594.0"
      ]
     },
     "execution_count": 16,
     "metadata": {},
     "output_type": "execute_result"
    }
   ],
   "source": [
    "#Count no of user_id for each unique product as recommendation score \n",
    "train_data_grouped_rating= train_data.groupby(['productid'])['rating'].sum().reset_index()\n",
    "train_data_grouped_rating.rename(columns = {'rating': 'ratingsum'},inplace=True)\n",
    "train_data_grouped_rating.head()"
   ]
  },
  {
   "cell_type": "code",
   "execution_count": 17,
   "metadata": {
    "execution": {
     "iopub.execute_input": "2020-09-20T18:36:58.393137Z",
     "iopub.status.busy": "2020-09-20T18:36:58.391944Z",
     "iopub.status.idle": "2020-09-20T18:36:58.451150Z",
     "shell.execute_reply": "2020-09-20T18:36:58.451769Z"
    },
    "papermill": {
     "duration": 0.121475,
     "end_time": "2020-09-20T18:36:58.451938",
     "exception": false,
     "start_time": "2020-09-20T18:36:58.330463",
     "status": "completed"
    },
    "tags": []
   },
   "outputs": [
    {
     "data": {
      "text/html": [
       "<div>\n",
       "<style scoped>\n",
       "    .dataframe tbody tr th:only-of-type {\n",
       "        vertical-align: middle;\n",
       "    }\n",
       "\n",
       "    .dataframe tbody tr th {\n",
       "        vertical-align: top;\n",
       "    }\n",
       "\n",
       "    .dataframe thead th {\n",
       "        text-align: right;\n",
       "    }\n",
       "</style>\n",
       "<table border=\"1\" class=\"dataframe\">\n",
       "  <thead>\n",
       "    <tr style=\"text-align: right;\">\n",
       "      <th></th>\n",
       "      <th>productid</th>\n",
       "      <th>noofuser</th>\n",
       "    </tr>\n",
       "  </thead>\n",
       "  <tbody>\n",
       "    <tr>\n",
       "      <th>0</th>\n",
       "      <td>0972683275</td>\n",
       "      <td>86</td>\n",
       "    </tr>\n",
       "    <tr>\n",
       "      <th>1</th>\n",
       "      <td>1400532655</td>\n",
       "      <td>44</td>\n",
       "    </tr>\n",
       "    <tr>\n",
       "      <th>2</th>\n",
       "      <td>B00001P4XA</td>\n",
       "      <td>40</td>\n",
       "    </tr>\n",
       "    <tr>\n",
       "      <th>3</th>\n",
       "      <td>B00001P4ZH</td>\n",
       "      <td>155</td>\n",
       "    </tr>\n",
       "    <tr>\n",
       "      <th>4</th>\n",
       "      <td>B00001WRSJ</td>\n",
       "      <td>127</td>\n",
       "    </tr>\n",
       "  </tbody>\n",
       "</table>\n",
       "</div>"
      ],
      "text/plain": [
       "    productid  noofuser\n",
       "0  0972683275        86\n",
       "1  1400532655        44\n",
       "2  B00001P4XA        40\n",
       "3  B00001P4ZH       155\n",
       "4  B00001WRSJ       127"
      ]
     },
     "execution_count": 17,
     "metadata": {},
     "output_type": "execute_result"
    }
   ],
   "source": [
    "#top five prouducts as per their avg rating\n",
    "#Count of user_id for each unique product as recommendation score \n",
    "train_data_grouped_users = train_data.groupby('productid').agg({'userid': 'count'}).reset_index()\n",
    "train_data_grouped_users.rename(columns = {'userid': 'noofuser'},inplace=True)\n",
    "train_data_grouped_users.head()"
   ]
  },
  {
   "cell_type": "code",
   "execution_count": 18,
   "metadata": {
    "execution": {
     "iopub.execute_input": "2020-09-20T18:36:58.563146Z",
     "iopub.status.busy": "2020-09-20T18:36:58.562337Z",
     "iopub.status.idle": "2020-09-20T18:36:58.580367Z",
     "shell.execute_reply": "2020-09-20T18:36:58.579714Z"
    },
    "papermill": {
     "duration": 0.077447,
     "end_time": "2020-09-20T18:36:58.580488",
     "exception": false,
     "start_time": "2020-09-20T18:36:58.503041",
     "status": "completed"
    },
    "tags": []
   },
   "outputs": [
    {
     "data": {
      "text/html": [
       "<div>\n",
       "<style scoped>\n",
       "    .dataframe tbody tr th:only-of-type {\n",
       "        vertical-align: middle;\n",
       "    }\n",
       "\n",
       "    .dataframe tbody tr th {\n",
       "        vertical-align: top;\n",
       "    }\n",
       "\n",
       "    .dataframe thead th {\n",
       "        text-align: right;\n",
       "    }\n",
       "</style>\n",
       "<table border=\"1\" class=\"dataframe\">\n",
       "  <thead>\n",
       "    <tr style=\"text-align: right;\">\n",
       "      <th></th>\n",
       "      <th>productid</th>\n",
       "      <th>ratingsum</th>\n",
       "      <th>noofuser</th>\n",
       "    </tr>\n",
       "  </thead>\n",
       "  <tbody>\n",
       "    <tr>\n",
       "      <th>0</th>\n",
       "      <td>0972683275</td>\n",
       "      <td>387.0</td>\n",
       "      <td>86</td>\n",
       "    </tr>\n",
       "    <tr>\n",
       "      <th>1</th>\n",
       "      <td>1400532655</td>\n",
       "      <td>160.0</td>\n",
       "      <td>44</td>\n",
       "    </tr>\n",
       "    <tr>\n",
       "      <th>2</th>\n",
       "      <td>B00001P4XA</td>\n",
       "      <td>154.0</td>\n",
       "      <td>40</td>\n",
       "    </tr>\n",
       "    <tr>\n",
       "      <th>3</th>\n",
       "      <td>B00001P4ZH</td>\n",
       "      <td>699.0</td>\n",
       "      <td>155</td>\n",
       "    </tr>\n",
       "    <tr>\n",
       "      <th>4</th>\n",
       "      <td>B00001WRSJ</td>\n",
       "      <td>594.0</td>\n",
       "      <td>127</td>\n",
       "    </tr>\n",
       "  </tbody>\n",
       "</table>\n",
       "</div>"
      ],
      "text/plain": [
       "    productid  ratingsum  noofuser\n",
       "0  0972683275      387.0        86\n",
       "1  1400532655      160.0        44\n",
       "2  B00001P4XA      154.0        40\n",
       "3  B00001P4ZH      699.0       155\n",
       "4  B00001WRSJ      594.0       127"
      ]
     },
     "execution_count": 18,
     "metadata": {},
     "output_type": "execute_result"
    }
   ],
   "source": [
    "train_data_merged_grouped = pd.merge(train_data_grouped_rating, train_data_grouped_users, on='productid')\n",
    "train_data_merged_grouped.head()"
   ]
  },
  {
   "cell_type": "code",
   "execution_count": 19,
   "metadata": {
    "execution": {
     "iopub.execute_input": "2020-09-20T18:36:58.678960Z",
     "iopub.status.busy": "2020-09-20T18:36:58.678164Z",
     "iopub.status.idle": "2020-09-20T18:36:58.708474Z",
     "shell.execute_reply": "2020-09-20T18:36:58.707765Z"
    },
    "papermill": {
     "duration": 0.081823,
     "end_time": "2020-09-20T18:36:58.708591",
     "exception": false,
     "start_time": "2020-09-20T18:36:58.626768",
     "status": "completed"
    },
    "tags": []
   },
   "outputs": [
    {
     "data": {
      "text/html": [
       "<div>\n",
       "<style scoped>\n",
       "    .dataframe tbody tr th:only-of-type {\n",
       "        vertical-align: middle;\n",
       "    }\n",
       "\n",
       "    .dataframe tbody tr th {\n",
       "        vertical-align: top;\n",
       "    }\n",
       "\n",
       "    .dataframe thead th {\n",
       "        text-align: right;\n",
       "    }\n",
       "</style>\n",
       "<table border=\"1\" class=\"dataframe\">\n",
       "  <thead>\n",
       "    <tr style=\"text-align: right;\">\n",
       "      <th></th>\n",
       "      <th>productid</th>\n",
       "      <th>ratingsum</th>\n",
       "      <th>noofuser</th>\n",
       "      <th>averagerating</th>\n",
       "    </tr>\n",
       "  </thead>\n",
       "  <tbody>\n",
       "    <tr>\n",
       "      <th>0</th>\n",
       "      <td>0972683275</td>\n",
       "      <td>387.0</td>\n",
       "      <td>86</td>\n",
       "      <td>4.500000</td>\n",
       "    </tr>\n",
       "    <tr>\n",
       "      <th>1</th>\n",
       "      <td>1400532655</td>\n",
       "      <td>160.0</td>\n",
       "      <td>44</td>\n",
       "      <td>3.636364</td>\n",
       "    </tr>\n",
       "    <tr>\n",
       "      <th>2</th>\n",
       "      <td>B00001P4XA</td>\n",
       "      <td>154.0</td>\n",
       "      <td>40</td>\n",
       "      <td>3.850000</td>\n",
       "    </tr>\n",
       "    <tr>\n",
       "      <th>3</th>\n",
       "      <td>B00001P4ZH</td>\n",
       "      <td>699.0</td>\n",
       "      <td>155</td>\n",
       "      <td>4.509677</td>\n",
       "    </tr>\n",
       "    <tr>\n",
       "      <th>4</th>\n",
       "      <td>B00001WRSJ</td>\n",
       "      <td>594.0</td>\n",
       "      <td>127</td>\n",
       "      <td>4.677165</td>\n",
       "    </tr>\n",
       "  </tbody>\n",
       "</table>\n",
       "</div>"
      ],
      "text/plain": [
       "    productid  ratingsum  noofuser  averagerating\n",
       "0  0972683275      387.0        86       4.500000\n",
       "1  1400532655      160.0        44       3.636364\n",
       "2  B00001P4XA      154.0        40       3.850000\n",
       "3  B00001P4ZH      699.0       155       4.509677\n",
       "4  B00001WRSJ      594.0       127       4.677165"
      ]
     },
     "execution_count": 19,
     "metadata": {},
     "output_type": "execute_result"
    }
   ],
   "source": [
    "train_data_merged_grouped['averagerating']= train_data_merged_grouped['ratingsum']/train_data_merged_grouped['noofuser']\n",
    "train_data_merged_grouped.head()"
   ]
  },
  {
   "cell_type": "code",
   "execution_count": 20,
   "metadata": {
    "execution": {
     "iopub.execute_input": "2020-09-20T18:36:58.808459Z",
     "iopub.status.busy": "2020-09-20T18:36:58.807678Z",
     "iopub.status.idle": "2020-09-20T18:36:58.827260Z",
     "shell.execute_reply": "2020-09-20T18:36:58.826545Z"
    },
    "papermill": {
     "duration": 0.071369,
     "end_time": "2020-09-20T18:36:58.827382",
     "exception": false,
     "start_time": "2020-09-20T18:36:58.756013",
     "status": "completed"
    },
    "tags": []
   },
   "outputs": [
    {
     "data": {
      "text/html": [
       "<div>\n",
       "<style scoped>\n",
       "    .dataframe tbody tr th:only-of-type {\n",
       "        vertical-align: middle;\n",
       "    }\n",
       "\n",
       "    .dataframe tbody tr th {\n",
       "        vertical-align: top;\n",
       "    }\n",
       "\n",
       "    .dataframe thead th {\n",
       "        text-align: right;\n",
       "    }\n",
       "</style>\n",
       "<table border=\"1\" class=\"dataframe\">\n",
       "  <thead>\n",
       "    <tr style=\"text-align: right;\">\n",
       "      <th></th>\n",
       "      <th>productid</th>\n",
       "      <th>ratingsum</th>\n",
       "      <th>noofuser</th>\n",
       "      <th>averagerating</th>\n",
       "    </tr>\n",
       "  </thead>\n",
       "  <tbody>\n",
       "    <tr>\n",
       "      <th>931</th>\n",
       "      <td>B0043WJRRS</td>\n",
       "      <td>850.0</td>\n",
       "      <td>173</td>\n",
       "      <td>4.913295</td>\n",
       "    </tr>\n",
       "    <tr>\n",
       "      <th>883</th>\n",
       "      <td>B003XM1WE0</td>\n",
       "      <td>427.0</td>\n",
       "      <td>87</td>\n",
       "      <td>4.908046</td>\n",
       "    </tr>\n",
       "    <tr>\n",
       "      <th>577</th>\n",
       "      <td>B0029N3U8K</td>\n",
       "      <td>265.0</td>\n",
       "      <td>54</td>\n",
       "      <td>4.907407</td>\n",
       "    </tr>\n",
       "    <tr>\n",
       "      <th>798</th>\n",
       "      <td>B003FVVMS0</td>\n",
       "      <td>682.0</td>\n",
       "      <td>139</td>\n",
       "      <td>4.906475</td>\n",
       "    </tr>\n",
       "    <tr>\n",
       "      <th>1068</th>\n",
       "      <td>B004SCSV2U</td>\n",
       "      <td>254.0</td>\n",
       "      <td>52</td>\n",
       "      <td>4.884615</td>\n",
       "    </tr>\n",
       "    <tr>\n",
       "      <th>...</th>\n",
       "      <td>...</td>\n",
       "      <td>...</td>\n",
       "      <td>...</td>\n",
       "      <td>...</td>\n",
       "    </tr>\n",
       "    <tr>\n",
       "      <th>448</th>\n",
       "      <td>B001F9DJOO</td>\n",
       "      <td>84.0</td>\n",
       "      <td>37</td>\n",
       "      <td>2.270270</td>\n",
       "    </tr>\n",
       "    <tr>\n",
       "      <th>716</th>\n",
       "      <td>B0033BU0F8</td>\n",
       "      <td>106.0</td>\n",
       "      <td>47</td>\n",
       "      <td>2.255319</td>\n",
       "    </tr>\n",
       "    <tr>\n",
       "      <th>673</th>\n",
       "      <td>B002TUC64W</td>\n",
       "      <td>96.0</td>\n",
       "      <td>46</td>\n",
       "      <td>2.086957</td>\n",
       "    </tr>\n",
       "    <tr>\n",
       "      <th>321</th>\n",
       "      <td>B000Y7T5UU</td>\n",
       "      <td>91.0</td>\n",
       "      <td>45</td>\n",
       "      <td>2.022222</td>\n",
       "    </tr>\n",
       "    <tr>\n",
       "      <th>1763</th>\n",
       "      <td>B00B14E4V0</td>\n",
       "      <td>99.0</td>\n",
       "      <td>54</td>\n",
       "      <td>1.833333</td>\n",
       "    </tr>\n",
       "  </tbody>\n",
       "</table>\n",
       "<p>1911 rows × 4 columns</p>\n",
       "</div>"
      ],
      "text/plain": [
       "       productid  ratingsum  noofuser  averagerating\n",
       "931   B0043WJRRS      850.0       173       4.913295\n",
       "883   B003XM1WE0      427.0        87       4.908046\n",
       "577   B0029N3U8K      265.0        54       4.907407\n",
       "798   B003FVVMS0      682.0       139       4.906475\n",
       "1068  B004SCSV2U      254.0        52       4.884615\n",
       "...          ...        ...       ...            ...\n",
       "448   B001F9DJOO       84.0        37       2.270270\n",
       "716   B0033BU0F8      106.0        47       2.255319\n",
       "673   B002TUC64W       96.0        46       2.086957\n",
       "321   B000Y7T5UU       91.0        45       2.022222\n",
       "1763  B00B14E4V0       99.0        54       1.833333\n",
       "\n",
       "[1911 rows x 4 columns]"
      ]
     },
     "execution_count": 20,
     "metadata": {},
     "output_type": "execute_result"
    }
   ],
   "source": [
    "train_data_merged_grouped.sort_values('averagerating',ascending=False)"
   ]
  },
  {
   "cell_type": "markdown",
   "metadata": {
    "papermill": {
     "duration": 0.047154,
     "end_time": "2020-09-20T18:36:58.922091",
     "exception": false,
     "start_time": "2020-09-20T18:36:58.874937",
     "status": "completed"
    },
    "tags": []
   },
   "source": [
    "# TOP 5 popular products"
   ]
  },
  {
   "cell_type": "code",
   "execution_count": 21,
   "metadata": {
    "execution": {
     "iopub.execute_input": "2020-09-20T18:36:59.021736Z",
     "iopub.status.busy": "2020-09-20T18:36:59.020993Z",
     "iopub.status.idle": "2020-09-20T18:36:59.033850Z",
     "shell.execute_reply": "2020-09-20T18:36:59.033131Z"
    },
    "papermill": {
     "duration": 0.0645,
     "end_time": "2020-09-20T18:36:59.033971",
     "exception": false,
     "start_time": "2020-09-20T18:36:58.969471",
     "status": "completed"
    },
    "tags": []
   },
   "outputs": [
    {
     "data": {
      "text/html": [
       "<div>\n",
       "<style scoped>\n",
       "    .dataframe tbody tr th:only-of-type {\n",
       "        vertical-align: middle;\n",
       "    }\n",
       "\n",
       "    .dataframe tbody tr th {\n",
       "        vertical-align: top;\n",
       "    }\n",
       "\n",
       "    .dataframe thead th {\n",
       "        text-align: right;\n",
       "    }\n",
       "</style>\n",
       "<table border=\"1\" class=\"dataframe\">\n",
       "  <thead>\n",
       "    <tr style=\"text-align: right;\">\n",
       "      <th></th>\n",
       "      <th>productid</th>\n",
       "      <th>ratingsum</th>\n",
       "      <th>noofuser</th>\n",
       "      <th>averagerating</th>\n",
       "    </tr>\n",
       "  </thead>\n",
       "  <tbody>\n",
       "    <tr>\n",
       "      <th>931</th>\n",
       "      <td>B0043WJRRS</td>\n",
       "      <td>850.0</td>\n",
       "      <td>173</td>\n",
       "      <td>4.913295</td>\n",
       "    </tr>\n",
       "    <tr>\n",
       "      <th>883</th>\n",
       "      <td>B003XM1WE0</td>\n",
       "      <td>427.0</td>\n",
       "      <td>87</td>\n",
       "      <td>4.908046</td>\n",
       "    </tr>\n",
       "    <tr>\n",
       "      <th>577</th>\n",
       "      <td>B0029N3U8K</td>\n",
       "      <td>265.0</td>\n",
       "      <td>54</td>\n",
       "      <td>4.907407</td>\n",
       "    </tr>\n",
       "    <tr>\n",
       "      <th>798</th>\n",
       "      <td>B003FVVMS0</td>\n",
       "      <td>682.0</td>\n",
       "      <td>139</td>\n",
       "      <td>4.906475</td>\n",
       "    </tr>\n",
       "    <tr>\n",
       "      <th>1068</th>\n",
       "      <td>B004SCSV2U</td>\n",
       "      <td>254.0</td>\n",
       "      <td>52</td>\n",
       "      <td>4.884615</td>\n",
       "    </tr>\n",
       "  </tbody>\n",
       "</table>\n",
       "</div>"
      ],
      "text/plain": [
       "       productid  ratingsum  noofuser  averagerating\n",
       "931   B0043WJRRS      850.0       173       4.913295\n",
       "883   B003XM1WE0      427.0        87       4.908046\n",
       "577   B0029N3U8K      265.0        54       4.907407\n",
       "798   B003FVVMS0      682.0       139       4.906475\n",
       "1068  B004SCSV2U      254.0        52       4.884615"
      ]
     },
     "execution_count": 21,
     "metadata": {},
     "output_type": "execute_result"
    }
   ],
   "source": [
    "# Find top 5 popular products\n",
    "train_data_merged_grouped.sort_values('averagerating',ascending=False).head(5)"
   ]
  },
  {
   "cell_type": "code",
   "execution_count": 22,
   "metadata": {
    "execution": {
     "iopub.execute_input": "2020-09-20T18:36:59.135629Z",
     "iopub.status.busy": "2020-09-20T18:36:59.134848Z",
     "iopub.status.idle": "2020-09-20T18:36:59.138057Z",
     "shell.execute_reply": "2020-09-20T18:36:59.137453Z"
    },
    "papermill": {
     "duration": 0.055444,
     "end_time": "2020-09-20T18:36:59.138176",
     "exception": false,
     "start_time": "2020-09-20T18:36:59.082732",
     "status": "completed"
    },
    "tags": []
   },
   "outputs": [],
   "source": [
    "del train_data_grouped\n",
    "del train_data_grouped_rating\n",
    "del train_data_merged_grouped"
   ]
  },
  {
   "cell_type": "markdown",
   "metadata": {
    "papermill": {
     "duration": 0.048239,
     "end_time": "2020-09-20T18:36:59.234295",
     "exception": false,
     "start_time": "2020-09-20T18:36:59.186056",
     "status": "completed"
    },
    "tags": []
   },
   "source": [
    "# Collaborative Filtering model."
   ]
  },
  {
   "cell_type": "code",
   "execution_count": 23,
   "metadata": {
    "execution": {
     "iopub.execute_input": "2020-09-20T18:36:59.360925Z",
     "iopub.status.busy": "2020-09-20T18:36:59.359913Z",
     "iopub.status.idle": "2020-09-20T18:36:59.407233Z",
     "shell.execute_reply": "2020-09-20T18:36:59.406625Z"
    },
    "papermill": {
     "duration": 0.107411,
     "end_time": "2020-09-20T18:36:59.407369",
     "exception": false,
     "start_time": "2020-09-20T18:36:59.299958",
     "status": "completed"
    },
    "tags": []
   },
   "outputs": [],
   "source": [
    "from surprise import KNNWithMeans\n",
    "from surprise import Dataset\n",
    "from surprise import accuracy\n",
    "from surprise import Reader\n",
    "from surprise.model_selection import train_test_split"
   ]
  },
  {
   "cell_type": "code",
   "execution_count": 24,
   "metadata": {
    "execution": {
     "iopub.execute_input": "2020-09-20T18:36:59.516424Z",
     "iopub.status.busy": "2020-09-20T18:36:59.510371Z",
     "iopub.status.idle": "2020-09-20T18:36:59.706291Z",
     "shell.execute_reply": "2020-09-20T18:36:59.705579Z"
    },
    "papermill": {
     "duration": 0.250299,
     "end_time": "2020-09-20T18:36:59.706426",
     "exception": false,
     "start_time": "2020-09-20T18:36:59.456127",
     "status": "completed"
    },
    "tags": []
   },
   "outputs": [],
   "source": [
    "#Load the dataframe to surprise. Observation : Got memory error so considering almost 1% only of the original dataset!!\n",
    "data_set_buffer_with_threshold50 = data_set_buffer_with_threshold50.sample(frac=0.1)\n",
    "data = Dataset.load_from_df(data_set_buffer_with_threshold50,Reader(rating_scale=(1, 5)))\n",
    "trainset, testset = train_test_split(data, test_size=.30)"
   ]
  },
  {
   "cell_type": "code",
   "execution_count": 25,
   "metadata": {
    "execution": {
     "iopub.execute_input": "2020-09-20T18:36:59.827708Z",
     "iopub.status.busy": "2020-09-20T18:36:59.811858Z",
     "iopub.status.idle": "2020-09-20T18:37:14.049690Z",
     "shell.execute_reply": "2020-09-20T18:37:14.048980Z"
    },
    "papermill": {
     "duration": 14.29457,
     "end_time": "2020-09-20T18:37:14.049840",
     "exception": false,
     "start_time": "2020-09-20T18:36:59.755270",
     "status": "completed"
    },
    "tags": []
   },
   "outputs": [
    {
     "name": "stdout",
     "output_type": "stream",
     "text": [
      "Estimating biases using als...\n",
      "Computing the pearson_baseline similarity matrix...\n",
      "Done computing similarity matrix.\n"
     ]
    },
    {
     "data": {
      "text/plain": [
       "<surprise.prediction_algorithms.knns.KNNWithMeans at 0x7f9f3f39a5d0>"
      ]
     },
     "execution_count": 25,
     "metadata": {},
     "output_type": "execute_result"
    }
   ],
   "source": [
    "# Use user_based true/false to switch between user-based or item-based collaborative filtering\n",
    "userusercollaborativefiltering = KNNWithMeans(k=5, sim_options={'name': 'pearson_baseline', 'user_based': True})\n",
    "userusercollaborativefiltering.fit(trainset)"
   ]
  },
  {
   "cell_type": "code",
   "execution_count": 26,
   "metadata": {
    "execution": {
     "iopub.execute_input": "2020-09-20T18:37:14.155291Z",
     "iopub.status.busy": "2020-09-20T18:37:14.154362Z",
     "iopub.status.idle": "2020-09-20T18:37:14.158915Z",
     "shell.execute_reply": "2020-09-20T18:37:14.158121Z"
    },
    "papermill": {
     "duration": 0.058966,
     "end_time": "2020-09-20T18:37:14.159046",
     "exception": false,
     "start_time": "2020-09-20T18:37:14.100080",
     "status": "completed"
    },
    "tags": []
   },
   "outputs": [
    {
     "data": {
      "text/plain": [
       "15535"
      ]
     },
     "execution_count": 26,
     "metadata": {},
     "output_type": "execute_result"
    }
   ],
   "source": [
    "trainset.n_users"
   ]
  },
  {
   "cell_type": "code",
   "execution_count": 27,
   "metadata": {
    "execution": {
     "iopub.execute_input": "2020-09-20T18:37:14.298867Z",
     "iopub.status.busy": "2020-09-20T18:37:14.277837Z",
     "iopub.status.idle": "2020-09-20T18:37:14.343072Z",
     "shell.execute_reply": "2020-09-20T18:37:14.343633Z"
    },
    "papermill": {
     "duration": 0.130708,
     "end_time": "2020-09-20T18:37:14.343796",
     "exception": false,
     "start_time": "2020-09-20T18:37:14.213088",
     "status": "completed"
    },
    "tags": []
   },
   "outputs": [],
   "source": [
    "test_pred = userusercollaborativefiltering.test(testset)"
   ]
  },
  {
   "cell_type": "code",
   "execution_count": 28,
   "metadata": {
    "execution": {
     "iopub.execute_input": "2020-09-20T18:37:14.464019Z",
     "iopub.status.busy": "2020-09-20T18:37:14.463237Z",
     "iopub.status.idle": "2020-09-20T18:37:14.467910Z",
     "shell.execute_reply": "2020-09-20T18:37:14.468516Z"
    },
    "papermill": {
     "duration": 0.073423,
     "end_time": "2020-09-20T18:37:14.468677",
     "exception": false,
     "start_time": "2020-09-20T18:37:14.395254",
     "status": "completed"
    },
    "tags": []
   },
   "outputs": [
    {
     "name": "stdout",
     "output_type": "stream",
     "text": [
      "User-based Model : Test Set RMSE score\n",
      "RMSE: 1.3043\n"
     ]
    },
    {
     "data": {
      "text/plain": [
       "1.3042787289683795"
      ]
     },
     "execution_count": 28,
     "metadata": {},
     "output_type": "execute_result"
    }
   ],
   "source": [
    "#RMSE\n",
    "print(\"User-based Model : Test Set RMSE score\")\n",
    "accuracy.rmse(test_pred, verbose=True)"
   ]
  },
  {
   "cell_type": "code",
   "execution_count": 29,
   "metadata": {
    "execution": {
     "iopub.execute_input": "2020-09-20T18:37:14.621058Z",
     "iopub.status.busy": "2020-09-20T18:37:14.577690Z",
     "iopub.status.idle": "2020-09-20T18:37:14.890861Z",
     "shell.execute_reply": "2020-09-20T18:37:14.891455Z"
    },
    "papermill": {
     "duration": 0.371085,
     "end_time": "2020-09-20T18:37:14.891613",
     "exception": false,
     "start_time": "2020-09-20T18:37:14.520528",
     "status": "completed"
    },
    "tags": []
   },
   "outputs": [
    {
     "name": "stdout",
     "output_type": "stream",
     "text": [
      "Estimating biases using als...\n",
      "Computing the pearson_baseline similarity matrix...\n",
      "Done computing similarity matrix.\n"
     ]
    },
    {
     "data": {
      "text/plain": [
       "<surprise.prediction_algorithms.knns.KNNWithMeans at 0x7f9f3f388b10>"
      ]
     },
     "execution_count": 29,
     "metadata": {},
     "output_type": "execute_result"
    }
   ],
   "source": [
    "# item-based collaborative filtering\n",
    "itembasedcollaborativefiltering = KNNWithMeans(k=5, sim_options={'name': 'pearson_baseline', 'user_based': False})\n",
    "itembasedcollaborativefiltering.fit(trainset)"
   ]
  },
  {
   "cell_type": "code",
   "execution_count": 30,
   "metadata": {
    "execution": {
     "iopub.execute_input": "2020-09-20T18:37:15.028458Z",
     "iopub.status.busy": "2020-09-20T18:37:15.013028Z",
     "iopub.status.idle": "2020-09-20T18:37:15.074880Z",
     "shell.execute_reply": "2020-09-20T18:37:15.074174Z"
    },
    "papermill": {
     "duration": 0.12958,
     "end_time": "2020-09-20T18:37:15.074995",
     "exception": false,
     "start_time": "2020-09-20T18:37:14.945415",
     "status": "completed"
    },
    "tags": []
   },
   "outputs": [],
   "source": [
    "test_pred_I = itembasedcollaborativefiltering.test(testset)"
   ]
  },
  {
   "cell_type": "code",
   "execution_count": 31,
   "metadata": {
    "execution": {
     "iopub.execute_input": "2020-09-20T18:37:15.200293Z",
     "iopub.status.busy": "2020-09-20T18:37:15.199288Z",
     "iopub.status.idle": "2020-09-20T18:37:15.203891Z",
     "shell.execute_reply": "2020-09-20T18:37:15.204586Z"
    },
    "papermill": {
     "duration": 0.076111,
     "end_time": "2020-09-20T18:37:15.204726",
     "exception": false,
     "start_time": "2020-09-20T18:37:15.128615",
     "status": "completed"
    },
    "tags": []
   },
   "outputs": [
    {
     "name": "stdout",
     "output_type": "stream",
     "text": [
      "Irem-based Model : Test Set RMSE score\n",
      "RMSE: 1.3045\n"
     ]
    },
    {
     "data": {
      "text/plain": [
       "1.3044611481628998"
      ]
     },
     "execution_count": 31,
     "metadata": {},
     "output_type": "execute_result"
    }
   ],
   "source": [
    "#RMSE\n",
    "print(\"Irem-based Model : Test Set RMSE score\")\n",
    "accuracy.rmse(test_pred_I, verbose=True)"
   ]
  },
  {
   "cell_type": "code",
   "execution_count": 32,
   "metadata": {
    "execution": {
     "iopub.execute_input": "2020-09-20T18:37:15.332999Z",
     "iopub.status.busy": "2020-09-20T18:37:15.331761Z",
     "iopub.status.idle": "2020-09-20T18:37:15.334285Z",
     "shell.execute_reply": "2020-09-20T18:37:15.335255Z"
    },
    "papermill": {
     "duration": 0.075953,
     "end_time": "2020-09-20T18:37:15.335487",
     "exception": false,
     "start_time": "2020-09-20T18:37:15.259534",
     "status": "completed"
    },
    "tags": []
   },
   "outputs": [],
   "source": [
    "del test_pred_I\n",
    "del trainset\n",
    "del data"
   ]
  },
  {
   "cell_type": "markdown",
   "metadata": {
    "papermill": {
     "duration": 0.061316,
     "end_time": "2020-09-20T18:37:15.461319",
     "exception": false,
     "start_time": "2020-09-20T18:37:15.400003",
     "status": "completed"
    },
    "tags": []
   },
   "source": [
    "**Recommend top 5 products to every user**"
   ]
  },
  {
   "cell_type": "markdown",
   "metadata": {
    "papermill": {
     "duration": 0.058422,
     "end_time": "2020-09-20T18:37:15.574926",
     "exception": false,
     "start_time": "2020-09-20T18:37:15.516504",
     "status": "completed"
    },
    "tags": []
   },
   "source": [
    "# **SVD or Matrix Factorization**"
   ]
  },
  {
   "cell_type": "code",
   "execution_count": 33,
   "metadata": {
    "execution": {
     "iopub.execute_input": "2020-09-20T18:37:15.702516Z",
     "iopub.status.busy": "2020-09-20T18:37:15.701512Z",
     "iopub.status.idle": "2020-09-20T18:37:15.704989Z",
     "shell.execute_reply": "2020-09-20T18:37:15.704164Z"
    },
    "papermill": {
     "duration": 0.067631,
     "end_time": "2020-09-20T18:37:15.705146",
     "exception": false,
     "start_time": "2020-09-20T18:37:15.637515",
     "status": "completed"
    },
    "tags": []
   },
   "outputs": [],
   "source": [
    "from collections import defaultdict\n",
    "from surprise import SVD"
   ]
  },
  {
   "cell_type": "code",
   "execution_count": 34,
   "metadata": {
    "execution": {
     "iopub.execute_input": "2020-09-20T18:37:15.826148Z",
     "iopub.status.busy": "2020-09-20T18:37:15.825239Z",
     "iopub.status.idle": "2020-09-20T18:37:15.828157Z",
     "shell.execute_reply": "2020-09-20T18:37:15.827460Z"
    },
    "papermill": {
     "duration": 0.066967,
     "end_time": "2020-09-20T18:37:15.828287",
     "exception": false,
     "start_time": "2020-09-20T18:37:15.761320",
     "status": "completed"
    },
    "tags": []
   },
   "outputs": [],
   "source": [
    "# First train an SVD algorithm with dataset.data_set_buffer = data_set_buffer.sample(frac=0.1)\n",
    "dataset_svd = data_set_buffer_with_threshold50.sample(frac=0.01)\n",
    "dataset_svd = Dataset.load_from_df(dataset_svd,Reader(rating_scale=(1, 5)))"
   ]
  },
  {
   "cell_type": "code",
   "execution_count": 35,
   "metadata": {
    "execution": {
     "iopub.execute_input": "2020-09-20T18:37:15.958369Z",
     "iopub.status.busy": "2020-09-20T18:37:15.957420Z",
     "iopub.status.idle": "2020-09-20T18:37:15.988847Z",
     "shell.execute_reply": "2020-09-20T18:37:15.988275Z"
    },
    "papermill": {
     "duration": 0.099668,
     "end_time": "2020-09-20T18:37:15.988970",
     "exception": false,
     "start_time": "2020-09-20T18:37:15.889302",
     "status": "completed"
    },
    "tags": []
   },
   "outputs": [
    {
     "data": {
      "text/plain": [
       "<surprise.prediction_algorithms.matrix_factorization.SVD at 0x7f9f3f388790>"
      ]
     },
     "execution_count": 35,
     "metadata": {},
     "output_type": "execute_result"
    }
   ],
   "source": [
    "trainset = dataset_svd.build_full_trainset()\n",
    "svd_algo = SVD()\n",
    "svd_algo.fit(trainset)"
   ]
  },
  {
   "cell_type": "code",
   "execution_count": 36,
   "metadata": {
    "execution": {
     "iopub.execute_input": "2020-09-20T18:37:16.120134Z",
     "iopub.status.busy": "2020-09-20T18:37:16.115175Z",
     "iopub.status.idle": "2020-09-20T18:37:16.151423Z",
     "shell.execute_reply": "2020-09-20T18:37:16.150674Z"
    },
    "papermill": {
     "duration": 0.106529,
     "end_time": "2020-09-20T18:37:16.151539",
     "exception": false,
     "start_time": "2020-09-20T18:37:16.045010",
     "status": "completed"
    },
    "tags": []
   },
   "outputs": [],
   "source": [
    "#Predict ratings for all pairs (u, i) that are NOT in the training set.\n",
    "testset = trainset.build_anti_testset()"
   ]
  },
  {
   "cell_type": "code",
   "execution_count": 37,
   "metadata": {
    "execution": {
     "iopub.execute_input": "2020-09-20T18:37:16.271479Z",
     "iopub.status.busy": "2020-09-20T18:37:16.269378Z",
     "iopub.status.idle": "2020-09-20T18:37:16.941251Z",
     "shell.execute_reply": "2020-09-20T18:37:16.940565Z"
    },
    "papermill": {
     "duration": 0.733394,
     "end_time": "2020-09-20T18:37:16.941391",
     "exception": false,
     "start_time": "2020-09-20T18:37:16.207997",
     "status": "completed"
    },
    "tags": []
   },
   "outputs": [],
   "source": [
    "predictions = svd_algo.test(testset)"
   ]
  },
  {
   "cell_type": "code",
   "execution_count": 38,
   "metadata": {
    "execution": {
     "iopub.execute_input": "2020-09-20T18:37:17.069871Z",
     "iopub.status.busy": "2020-09-20T18:37:17.069042Z",
     "iopub.status.idle": "2020-09-20T18:37:17.072163Z",
     "shell.execute_reply": "2020-09-20T18:37:17.071625Z"
    },
    "papermill": {
     "duration": 0.067636,
     "end_time": "2020-09-20T18:37:17.072303",
     "exception": false,
     "start_time": "2020-09-20T18:37:17.004667",
     "status": "completed"
    },
    "tags": []
   },
   "outputs": [],
   "source": [
    "def get_top_n_recommendations(reccomemndations, n=5):\n",
    "    # First map the reccommendations to each user.\n",
    "    top_n = defaultdict(list)\n",
    "    for uid, iid, true_r, est, _ in reccomemndations:\n",
    "        top_n[uid].append((iid, est))\n",
    "\n",
    "    #sort predictions for each user and retrieve the k highest ones.\n",
    "    for uid, user_ratings in top_n.items():\n",
    "        user_ratings.sort(key=lambda x: x[1], reverse=True)\n",
    "        top_n[uid] = user_ratings[:n]\n",
    "\n",
    "    return top_n"
   ]
  },
  {
   "cell_type": "code",
   "execution_count": 39,
   "metadata": {
    "execution": {
     "iopub.execute_input": "2020-09-20T18:37:17.213615Z",
     "iopub.status.busy": "2020-09-20T18:37:17.208555Z",
     "iopub.status.idle": "2020-09-20T18:37:17.237711Z",
     "shell.execute_reply": "2020-09-20T18:37:17.236962Z"
    },
    "papermill": {
     "duration": 0.109016,
     "end_time": "2020-09-20T18:37:17.237845",
     "exception": false,
     "start_time": "2020-09-20T18:37:17.128829",
     "status": "completed"
    },
    "tags": []
   },
   "outputs": [],
   "source": [
    "top_5 = get_top_n_recommendations(predictions, n=5)"
   ]
  },
  {
   "cell_type": "markdown",
   "metadata": {
    "papermill": {
     "duration": 0.056202,
     "end_time": "2020-09-20T18:37:17.351486",
     "exception": false,
     "start_time": "2020-09-20T18:37:17.295284",
     "status": "completed"
    },
    "tags": []
   },
   "source": [
    "### Top 5 products for each user:"
   ]
  },
  {
   "cell_type": "code",
   "execution_count": 40,
   "metadata": {
    "execution": {
     "iopub.execute_input": "2020-09-20T18:37:17.479235Z",
     "iopub.status.busy": "2020-09-20T18:37:17.478163Z",
     "iopub.status.idle": "2020-09-20T18:37:17.492296Z",
     "shell.execute_reply": "2020-09-20T18:37:17.493153Z"
    },
    "papermill": {
     "duration": 0.084432,
     "end_time": "2020-09-20T18:37:17.493395",
     "exception": false,
     "start_time": "2020-09-20T18:37:17.408963",
     "status": "completed"
    },
    "tags": []
   },
   "outputs": [
    {
     "name": "stdout",
     "output_type": "stream",
     "text": [
      "A1TJ3Q79U6R3I5 ['B007P4YAPK', 'B00478O0JI', 'B008XV7VTG', 'B0001FTVDQ', 'B008GGH4FY']\n",
      "A3UA3XQTIUB5A ['B009A5204K', 'B00B8A43CC', 'B004HCO4GI', 'B0041OSQB6', 'B002ZIMEMW']\n",
      "A3CS2UAHDUGU8T ['B009WA115M', 'B0027VT6V4', 'B002ZIMEMW', 'B009A5204K', 'B004QK7HI8']\n",
      "A39KCDB7VRGT62 ['B0000BZOGJ', 'B004RDWVUS', 'B002Q8IHDQ', 'B0066636AS', 'B0006DPMU4']\n",
      "A3IIA8I9DDI8AU ['B00DVFLJDS', 'B002EOVDII', 'B004T9RR6I', 'B002MU1ZRS', 'B0047T79VS']\n",
      "A2X6PH78VOJZQ ['B00CSMYBFS', 'B001M5U5AC', 'B000BQ7GW8', 'B002DN928S', 'B0013CXZZ6']\n",
      "A1R36O6SHTU3L9 ['B000CS1TLE', 'B004M5H660', 'B002Q8IHDQ', 'B002RM08RE', 'B000062VUO']\n",
      "A3KF2AHEWU33GR ['B001M5U5AC', 'B002HWRJBM', 'B0031GK3OI', 'B002Q8IHDQ', 'B001PS9UKW']\n",
      "A5SVHOBR50EDB ['B000EOPQ7E', 'B007P4YAPK', 'B000LRMS66', 'B002V88HFE', 'B00BT7RAPG']\n",
      "A3VF91VPHNP00L ['B0049S6ZUS', 'B009NHAEXE', 'B003DZ168E', 'B001W28L2Y', 'B00GTGETFG']\n",
      "ATB6QNWKL477H ['B007P4YAPK', 'B0047T79VS', 'B004W2JKWG', 'B005J7YA4G', 'B004T9RR6I']\n",
      "AM8QVXKIVJRLT ['B001PS9UKW', 'B009GF0J2Y', 'B000EPNDEG', 'B009A5204K', 'B00825BZUY']\n",
      "A3D4K392PMYJKZ ['B008D2POAS', 'B007R5YDYA', 'B00DVFLJDS', 'B000ID7QNI', 'B009GF0J2Y']\n",
      "A487NDIQX7OY7 ['B000W09ZTK', 'B008D2POAS', 'B009XCCC52', 'B00728ZC1K', 'B007P4YAPK']\n",
      "A3UBN12O0G6DZ6 ['B008D2POAS', 'B001UI4RTG', 'B0040JHVC2', 'B009NHAEXE', 'B008MDSWI4']\n",
      "A2AV8Y91PISIP3 ['B002Q8IHDQ', 'B000BQ7GW8', 'B007R5YDYA', 'B003ELYQGG', 'B002QEBMAK']\n",
      "A1KKS1RXWHWQKB ['B000LRMS66', 'B009CP4PIW', 'B000BQ7GW8', 'B007P4YAPK', 'B0015AARJI']\n",
      "A2F0Z1JWA6WZIF ['B00478O0JI', 'B005HMKKH4', 'B0000BZOGJ', 'B005FJ7OF0', 'B008MDSWI4']\n",
      "A1LCUQR0ZQSGTB ['B009CP4PIW', 'B008GGH4FY', 'B007P4YAPK', 'B00080G0BK', 'B0040JHVC2']\n",
      "A7FGHGIGPK97A ['B005HGBEZ2', 'B003DZ168E', 'B005EJH6RW', 'B0013DXVYK', 'B000W09ZTK']\n",
      "A34P1PR3SNT826 ['B00GTGETFG', 'B000LRMS66', 'B009XCCC52', 'B007PA1K84', 'B00DVFLJDS']\n",
      "A5F0EYO2I9GKM ['B005HMKKH4', 'B000J01I1G', 'B003ELYQGG', 'B006OBGEHW', 'B00622AG6S']\n",
      "A3O6DRCCQHVRU5 ['B000LRMS66', 'B002V88HFE', 'B0027VT6V4', 'B001T9NUJE', 'B001M5U5AC']\n",
      "A2BP0408AOTT6Q ['B00CDIK908', 'B0074BW614', 'B002SGATH8', 'B0049S6ZUS', 'B00C4Q61Z6']\n",
      "A29JJBZ327VB8K ['B003WGJYCY', 'B003DZ168E', 'B002SGATH8', 'B00006B7DA', 'B000Z80ICM']\n",
      "A2UELJ0I8UTG15 ['B004RDWVUS', 'B001RQ2YF0', 'B001UI4RTG', 'B009XCCC52', 'B008MDSWI4']\n",
      "A1THGWH7FYMZ0K ['B0013CXZZ6', 'B000J01I1G', 'B008MDSWI4', 'B004QK7HI8', 'B0062CBCGG']\n",
      "A31GOA373UA79S ['B00B8A43CC', 'B002DW92IE', 'B004QK7HI8', 'B001RQ2YF0', 'B003WGJYCY']\n",
      "A3D9W9AZ8JX6LB ['B008D2POAS', 'B0049S6ZUS', 'B00080G0BK', 'B000J01I1G', 'B00BDS3N1G']\n",
      "ANELN1U3MIP4T ['B005KDYBIO', 'B002SGATH8', 'B009613MVS', 'B002Q8IHDQ', 'B005HMKKH4']\n",
      "AK5R7QQ1BFI51 ['B00478O0JI', 'B000ID7QNI', 'B007R5YDYA', 'B00080G0BK', 'B00DVFLJDS']\n",
      "A1F3G6B0WWFCKR ['B009NHAEXE', 'B00DVFLJDS', 'B00CDIK908', 'B001M5U5AC', 'B00478O0JI']\n",
      "A2F7DJPIPBU6VV ['B0040VGBYO', 'B008GGH4FY', 'B004LTEUDO', 'B0035FZJHQ', 'B003ELVLKU']\n",
      "A3LEBM0BBRPP1R ['B007R5YDYA', 'B001T9NUJE', 'B005KQ2O26', 'B003FVJYF8', 'B0007R4LI8']\n",
      "A3NIMF9SUIKJG5 ['B004M5H660', 'B0040VGBYO', 'B0007R4LI8', 'B002EOVDII', 'B002HWRJBM']\n",
      "ARP9JWMBJLP4E ['B0027VT6V4', 'B002EOVDII', 'B00CMQTVK0', 'B00BNIO4H8', 'B00080G0BK']\n",
      "A2GWQ5DNLLBWXW ['B004LTEUDO', 'B00728ZC1K', 'B002ZIMEMW', 'B002QEBMAK', 'B004W2JKWG']\n",
      "AL17VJFZYBGW9 ['B000062VUO', 'B000EYRLXQ', 'B00DVFLJDS', 'B004TLH7C0', 'B006OBGEHW']\n",
      "A64A14YBQOD2H ['B007P4YAPK', 'B003ELVLKU', 'B007PA1K84', 'B007R5YDYA', 'B002DN928S']\n",
      "A1592WFA05REVS ['B009A5204K', 'B000BQ7GW8', 'B0000BZOGJ', 'B00080G0BK', 'B009USAJCC']\n",
      "A172369KWI8AZF ['B005HGBEZ2', 'B003ZYF3LO', 'B001T9NUJE', 'B004QK7HI8', 'B001PS9UKW']\n",
      "A3AKVEG1B8TF5Y ['B009WA115M', 'B002Q8IHDQ', 'B00EXPSEFQ', 'B005HMKKH4', 'B000W09ZTK']\n",
      "A1LMF1EWQXLSZH ['B00DR0PDNE', 'B002Q8IHDQ', 'B0049S6ZUS', 'B001UI4RTG', 'B002V88HFE']\n",
      "A156VCUOBSEIZC ['B002MU1ZRS', 'B000LRMS66', 'B00825BZUY', 'B003FVJYF8', 'B002QEBMAK']\n",
      "A1JJ59JJPP2PA1 ['B001M5U5AC', 'B0031GK3OI', 'B0000BZOGJ', 'B0006DPMU4', 'B00C4Q61Z6']\n",
      "A2SEX983DU9IBN ['B003ELVLKU', 'B00080G0BK', 'B005HGBEZ2', 'B000CS1TLE', 'B000LRMS66']\n",
      "A3A0SP9ZWHTIOJ ['B00622AG6S', 'B00EXPSEFQ', 'B004M5H660', 'B001PS9UKW', 'B002MU1ZRS']\n",
      "A1FY6FIIV4OTIJ ['B007R5YDYA', 'B00BNIO4H8', 'B004T9RR6I', 'B002VJL0OS', 'B009GF0J2Y']\n",
      "A1YLIHANFK2AK6 ['B00BWF5U0M', 'B003FVJYF8', 'B000EPNDEG', 'B0013CXZZ6', 'B002Q8IHDQ']\n",
      "AU3URB1UNTA35 ['B005J7YA4G', 'B0013CXZZ6', 'B00825BZUY', 'B003ZYF3LO', 'B004TLH7C0']\n",
      "A2PIEW9MSAINR4 ['B00GTGETFG', 'B002Q8IHDQ', 'B007P4YAPK', 'B004HCO4GI', 'B0047T79VS']\n",
      "A166LC1ML4QW6K ['B002VJL0OS', 'B009WA115M', 'B009A5204K', 'B000CS1TLE', 'B000EPNDEG']\n",
      "ABWTD26GNHZCG ['B002EOVDII', 'B000062VUO', 'B008LURQ76', 'B0035FZJHQ', 'B0001FTVDQ']\n",
      "A2B54BIGGQ70LW ['B000LRMS66', 'B007R5YDYA', 'B0040JHVC2', 'B0041OSQB6', 'B0035FZJHQ']\n",
      "A7DVIP4E24VJW ['B005HGBEZ2', 'B000W09ZTK', 'B00728ZC1K', 'B003ELYQGG', 'B001O9X9EU']\n",
      "A1XS5SPFIM1A90 ['B006OBGEHW', 'B008GGH4FY', 'B00E055H5O', 'B00BWF5U0M', 'B0040JHVC2']\n",
      "A1Q7Q5501UBOE0 ['B000LRMS66', 'B0040JHVC2', 'B004M5H660', 'B003WGJYCY', 'B001RQ2YF0']\n",
      "A2RT20DNPFZGAF ['B009613MVS', 'B00C4Q61Z6', 'B007P4YAPK', 'B001UI4RTG', 'B00COYOAYW']\n",
      "A1RQMNVAXDEKYJ ['B001PS9UKW', 'B003ZYF3LO', 'B00478O0JI', 'B003ELYQGG', 'B008GGH4FY']\n",
      "A18RNKOEWKKPGQ ['B00080G0BK', 'B00081A2KY', 'B00DVFLJDS', 'B005EJH6RW', 'B004HCO4GI']\n",
      "ANA433MEW40YD ['B002VJL0OS', 'B005HGBEZ2', 'B003ELVLKU', 'B000CS1TLE', 'B00CSMYBFS']\n",
      "A2RONT3QGMHG9F ['B0006DPMU4', 'B005KDYBIO', 'B007R5YDYA', 'B007M506WS', 'B000EYRLXQ']\n",
      "A2KLSR60PFHUTV ['B000LRMS66', 'B001O9X9EU', 'B002RM08RE', 'B000Z80ICM', 'B006OBGEHW']\n",
      "A339EBLUVUGUB ['B00CDIK908', 'B009613MVS', 'B006OBGEHW', 'B003ELYQGG', 'B00DVFLJDS']\n",
      "A2ZCCT6DMNPL3N ['B00B8A43CC', 'B004HCO4GI', 'B003ZYF3LO', 'B00BDS3N1G', 'B000062VUO']\n",
      "A1MCJ7HGBIZ7PZ ['B007PA1K84', 'B00CDIK908', 'B003ELVLKU', 'B005B6O3LU', 'B005HGBEZ2']\n",
      "AM4NV6I9YBAB ['B001M5U5AC', 'B0027VT6V4', 'B00GTGETFG', 'B00COYOAYW', 'B000EOPQ7E']\n",
      "A343XI0NEV2YJ ['B005NF5NTK', 'B002Q8IHDQ', 'B004T9RR6I', 'B00622AG6S', 'B009CP4PIW']\n",
      "AREACLEYFLPSK ['B007R5YDYA', 'B002HWRJBM', 'B00CDIK908', 'B000EYRLXQ', 'B009NHAEXE']\n",
      "A3R4794K2RVU1S ['B002RM08RE', 'B002MU1ZRS', 'B009WA115M', 'B000Z80ICM', 'B002HWRJBM']\n",
      "A4FVV45NISM5A ['B0062CBCGG', 'B00478O0JI', 'B002Q8IHDQ', 'B009613MVS', 'B003FVJYF8']\n",
      "A6DZHNEOZ86O7 ['B000062VUO', 'B004HCO4GI', 'B000LRMS66', 'B004NQU4YY', 'B0041OSQB6']\n",
      "A1LLJ7HIBNDWOD ['B004W2JKWG', 'B003ELYQGG', 'B00CMQTVK0', 'B0013CXZZ6', 'B003ZYF3LO']\n",
      "A2R31VCGCP60G ['B004QK7HI8', 'B002V88HFE', 'B003ELVLKU', 'B000LRMS66', 'B00C4P8E3E']\n",
      "A1ZRIFUCF2WCPN ['B008GGH4FY', 'B008LURQ76', 'B001T9NUJE', 'B0049S6ZUS', 'B00478O0JI']\n",
      "A2YR93F5XH4NP8 ['B000LRMS66', 'B0062CBCGG', 'B00FB45SI4', 'B001W28L2Y', 'B0001FTVDQ']\n",
      "AUNJM2XYTDG2Z ['B00728ZC1K', 'B002ZIMEMW', 'B009CP4PIW', 'B0074BW614', 'B00698ZUHK']\n",
      "AXDW3OXL1ANL4 ['B000LRMS66', 'B00C4Q61Z6', 'B009GF0J2Y', 'B001RQ2YF0', 'B007R5YDYA']\n",
      "A1UP9W2BA7COND ['B009WA115M', 'B007R5YDYA', 'B004HHICKC', 'B00698ZUHK', 'B001G1ZPV6']\n",
      "A27D1EC5VCMNTE ['B004T9RR6I', 'B00622AG6S', 'B000EPNDEG', 'B002VJL0OS', 'B00825BZUY']\n",
      "A3FBML55JME8KA ['B007R5YDYA', 'B009613MVS', 'B002V88HFE', 'B0018LX0DY', 'B00698ZUHK']\n",
      "A2NMTANQJTSH3V ['B005J7YA4G', 'B004XIT4NO', 'B000EPNDEG', 'B007PA1K84', 'B002VJL0OS']\n",
      "A3HJHV83O2U8BL ['B00B588HY2', 'B009CP4PIW', 'B001ELJ9QK', 'B00825BZUY', 'B005DIBHA6']\n",
      "A329JUQ9BS1O8W ['B005J7YA4G', 'B00CSMYBFS', 'B004M5H660', 'B0040JHVC2', 'B009GF0J2Y']\n",
      "AXBPW0Y5L962E ['B006OBGEHW', 'B000LRMS66', 'B00622AG6S', 'B001O9X9EU', 'B009CP4PIW']\n",
      "AZVSDAYOLU2RS ['B000LRMS66', 'B003DZ168E', 'B0074BW614', 'B0013CXZZ6', 'B00B8A43CC']\n",
      "A129SSR99LXG3M ['B00BDS3N1G', 'B002Q8IHDQ', 'B009GF0J2Y', 'B004QK7HI8', 'B004W2JKWG']\n",
      "A1R81EQHGTL9FN ['0972683275', 'B002Q8IHDQ', 'B007PA1K84', 'B00C4Q61Z6', 'B009NHAEXE']\n",
      "A29Z3Z7CIXZ0FB ['B002Q8IHDQ', 'B006OBGEHW', 'B000Z80ICM', 'B0046RE21G', 'B000ID7QNI']\n",
      "A2YAMFZMYH1810 ['B002Q8IHDQ', 'B000J01I1G', '0972683275', 'B002EOVDII', 'B002MU1ZRS']\n",
      "A385XW7JKD6UZI ['B0074BW614', 'B005B6O3LU', 'B0049S6ZUS', 'B004W2JKWG', 'B0062CBCGG']\n",
      "A2C4LC00NH8OMG ['B002Q8IHDQ', 'B001RQ2YF0', 'B0031GK3OI', 'B00BDS3N1G', 'B0006DPMU4']\n",
      "A2LMFHBI0TB0N4 ['B004XIT4NO', 'B002Q8IHDQ', 'B00B8A43CC', 'B002DU15TU', 'B000LRMS66']\n",
      "A1UD24WT8C3GI2 ['B000LRMS66', 'B00CSMYBFS', 'B00C4P8E3E', 'B003ELYQGG', 'B000W09ZTK']\n",
      "AKVQLOXJFK4HU ['B002SGATH8', 'B000Z80ICM', 'B00CSMYBFS', 'B002DW92IE', 'B00BNIO4H8']\n",
      "A28G5FP0W41W1G ['B005DIBHA6', 'B00DVFLJDS', 'B002RM08RE', 'B004W2JKWG', 'B0062CBCGG']\n",
      "A1RA9T3G2FABCT ['B001M5U5AC', 'B00698ZUHK', 'B002SGATH8', 'B004T9RR6I', 'B0062CBCGG']\n",
      "A2HIP9Y9QOH9PT ['B005HMKKH4', 'B002SGATH8', 'B0031GK3OI', 'B000LRMS66', 'B004LTEUDO']\n",
      "A1WR9NPVT622XD ['B005B6O3LU', 'B007M506WS', 'B00007EDZG', 'B0040JHVC2', 'B002VJL0OS']\n",
      "A1LC7418OPYIAL ['B0049S6ZUS', 'B00CSMYBFS', 'B006OBGEHW', 'B000EYRLXQ', 'B00EXPSEFQ']\n",
      "A1YKEMP2RZ8R14 ['B000BQ7GW8', 'B009A5204K', 'B00DR0PDNE', 'B002Q8IHDQ', 'B008D2POAS']\n",
      "A1DV1H2ZSXUPCE ['B007P4YAPK', 'B0006DPMU4', 'B002HWRJBM', 'B0027VT6V4', 'B0062CBCGG']\n",
      "ATK2OVRHJD2UK ['B002Q8IHDQ', 'B003DZ168E', 'B005B6O3LU', 'B003DZ167A', 'B002SGATH8']\n",
      "A3KZ8C8GGIN15O ['B00DVFLJDS', 'B000CS1TLE', 'B00478O0JI', 'B009XCCC52', 'B005HMKKH4']\n",
      "A3AMJ332GF4ROG ['B005KQ2O26', 'B002Q8IHDQ', 'B001M5U5AC', 'B00BNIO4H8', 'B009A5204K']\n",
      "A14AB0FRPM0E1W ['B009NHAEXE', 'B009CP4PIW', 'B003ELVLKU', 'B00DR0PDNE', 'B003ELYQGG']\n",
      "A2OQ4I7537KISP ['B00DVFLJDS', 'B006GWO5WK', 'B004QK7HI8', 'B009A5204K', 'B007PTCFFW']\n",
      "A3PHMPAKPQZCFK ['B004QK7HI8', 'B00E055H5O', 'B00825BZUY', 'B0002Y5WZM', 'B009A5204K']\n",
      "A2SY8AWFJZZOVP ['B002VJL0OS', 'B008GGH4FY', 'B0062CBCGG', 'B00BWF5U0M', 'B005HMKKH4']\n",
      "AVB4D9MXAXTPV ['B0062CBCGG', 'B00CSMYBFS', 'B001UI4RTG', 'B002Q8IHDQ', 'B007PA1K84']\n",
      "A1HOE9FCK1W4X3 ['B00622AG6S', 'B004HCO4GI', 'B005HGBEZ2', 'B00GTGETFG', 'B003FVJYF8']\n",
      "A2UF9BMV2JOT5W ['B007PA1K84', 'B002SGATH8', 'B005KDYBIO', 'B0035FZJHQ', 'B005J7YA4G']\n",
      "AGKUYECC0YIAO ['B009GF0J2Y', 'B003FVJYF8', 'B007P4YAPK', 'B006GWO5WK', 'B007M506WS']\n",
      "A3MZJWHIYW9SLX ['B005J7YA4G', 'B004RDWVUS', 'B00B8A43CC', 'B001T9NUJE', 'B009NHAEXE']\n",
      "A1DS8YR9WJ00DE ['B000Z80ICM', 'B0062CBCGG', 'B00825BZUY', 'B004NQU4YY', 'B008D2POAS']\n",
      "A1TD3SJPDQ2LQT ['B002Q8IHDQ', 'B005EJH6RW', 'B004HCO4GI', 'B00006B7DA', 'B00FB45SI4']\n",
      "A361X3AGWWOJ4M ['B000J01I1G', 'B007R5YDYA', 'B009A5204K', 'B00CDIK908', 'B00DR0PDNE']\n",
      "A25TEJDRX2A751 ['B002V88HFE', 'B009GF0J2Y', 'B003FVJYF8', 'B001M5U5AC', 'B009613MVS']\n",
      "A13UWPN4QSKFQE ['B0001FTVDQ', 'B002SGATH8', 'B009A5204K', 'B000LRMS66', 'B005KQ2O26']\n",
      "A1E6C3R8CPAOWC ['B004M5H660', 'B00622AG6S', 'B004HCO4GI', 'B003ELYQGG', 'B004TLH7C0']\n",
      "A39SEQ7D36V7W0 ['B004M5H660', 'B008XV7VTG', 'B00C4Q61Z6', 'B000BQ7GW8', 'B0013CXZZ6']\n",
      "AE16EPWU9NQBY ['B005HGBEZ2', 'B000ID7QNI', 'B003VAK1I2', 'B007R5YDYA', 'B00728ZC1K']\n",
      "A2WV7HG0TYPACC ['B000LRMS66', 'B00728ZC1K', 'B002HWRJBM', 'B002MU1ZRS', 'B002ZIMEMW']\n",
      "A2KO2LUNA65JUE ['B00C4P8E3E', 'B002Q8IHDQ', 'B0040JHVC2', 'B00DR0PDNE', 'B001RQ2YF0']\n",
      "A15ZEBTKX72NPB ['B0031GK3OI', 'B003FVJYF8', 'B00EXPSEFQ', 'B004T9RR6I', 'B000LRMS66']\n",
      "A3D3WDH4GP5UN4 ['B009CP4PIW', 'B004W2JKWG', 'B000EPNDEG', 'B003ELVLKU', 'B002SGATH8']\n",
      "A1S6B1EKPXQCSO ['B005FJ7OF0', 'B005J7YA4G', 'B006OBGEHW', 'B005HMKKH4', 'B0049S6ZUS']\n",
      "A354NHLL8VH4Z4 ['B00080G0BK', 'B0049S6ZUS', 'B00728ZC1K', 'B0062CBCGG', 'B001UI4RTG']\n",
      "A3VTOLNB5N6FVP ['B0040JHVC2', 'B002EOVDII', 'B005EJH6RW', 'B004W2JKWG', 'B001E45XT4']\n",
      "AZMOM619PTO5B ['B009A5204K', 'B000LRMS66', 'B008D2POAS', 'B009NHAEXE', 'B00GTGETFG']\n",
      "A2BVQ61K86ZFJW ['B003ELYQGG', 'B002RM08RE', 'B00728ZC1K', 'B001O9X9EU', 'B001UI4RTG']\n",
      "A3EAP2VG0BVYWX ['B007P4YAPK', 'B003WGJYCY', 'B008GGH4FY', 'B00FB45SI4', 'B00E055H5O']\n",
      "A3ECX4JDM9CYG9 ['B00CDIK908', 'B009GF0J2Y', 'B007P4YAPK', 'B006GWO5WK', 'B00825BZUY']\n",
      "A3IJL9A50KVVZ1 ['B004RDWVUS', 'B003ZYF3LO', 'B0015AARJI', 'B006OBGEHW', 'B002SGATH8']\n",
      "A8IFCSV4AZPBI ['B00CMQTVK0', 'B00DVFLJDS', 'B00698ZUHK', 'B002ZIMEMW', 'B0006DPMU4']\n",
      "A45EACYIGJGXE ['B0074BW614', 'B0013DXVYK', 'B001W28L2Y', 'B00CDIK908', 'B003ELYQGG']\n",
      "A3OIX2EBA1B5E8 ['B007P4YAPK', 'B009WA115M', 'B000EYRLXQ', 'B0027VT6V4', 'B002ZIMEMW']\n",
      "A1PBI1HNXIVV8E ['B009CP4PIW', 'B00478O0JI', 'B005HGBEZ2', 'B000BQ7GW8', 'B000EPNDEG']\n",
      "A3O30FD2EKRBMM ['B00478O0JI', 'B00825BZUY', 'B002EOVDII', 'B009GF0J2Y', 'B0006DPMU4']\n",
      "A1TF557CUXFMVY ['B000BQ7GW8', 'B00BWF5U0M', 'B002RM08RE', 'B000LRMS66', 'B004QK7HI8']\n",
      "A1SSHLX8QDNH4J ['B001O9X9EU', 'B004HCO4GI', 'B0062CBCGG', 'B005EJH6RW', 'B00B588HY2']\n",
      "A3S1OM1TS0AF2L ['B002SGATH8', 'B004M5H660', 'B007PA1K84', 'B00BWF5U0M', 'B004T9RR6I']\n",
      "A2K60GJA18YY24 ['B002Q8IHDQ', 'B005KDYBIO', 'B00C4Q61Z6', 'B00B588HY2', 'B0041OSQB6']\n",
      "AW3A8DOV99HZV ['B0062CBCGG', 'B009WA115M', 'B00DVFLJDS', 'B003WGJYCY', 'B0027VT6V4']\n",
      "A27PDL8RX20F8E ['B00825BZUY', 'B000LRMS66', 'B0062CBCGG', 'B002HWRJBM', 'B005KDYBIO']\n",
      "A2M5AE901A39GW ['B00CMQTVK0', 'B00E055H5O', 'B003VAK1I2', 'B001W28L2Y', 'B00CSMYBFS']\n",
      "ARXKCHYNXFFAF ['B007M506WS', 'B00080G0BK', 'B00622AG6S', 'B00478O0JI', 'B000LRMS66']\n",
      "A3P5PBSVI39SAF ['B008GGH4FY', 'B008XV7VTG', 'B004HCO4GI', 'B006U1YUZE', 'B00080G0BK']\n",
      "A23YM6QWKW6DD1 ['B002SGATH8', 'B002ZIMEMW', 'B006GWO5WK', 'B001O9X9EU', 'B009CP4PIW']\n",
      "A9UWOXJ8AZZ4B ['B0062CBCGG', 'B005KDYBIO', 'B004W2JKWG', 'B0074BW614', 'B00FB45SI4']\n",
      "A3AKVALGT4Y02G ['B000LRMS66', 'B006OBGEHW', 'B00622AG6S', 'B000BQ7GW8', 'B003FVJYF8']\n",
      "A1EOITE6KWM7G4 ['B001PS9UKW', 'B0006DPMU4', 'B0040JHVC2', 'B00A3YN0Z0', 'B008XV7VTG']\n",
      "AO7OJJQ5QPMU4 ['B004M5H660', 'B004LTEUDO', 'B001DLTDQC', 'B009NHAEXE', 'B002HWRJBM']\n",
      "A19MOQ2IU77VMI ['B00COYOAYW', 'B007R5YDYA', 'B00FB45SI4', 'B004NQU4YY', 'B00E055H5O']\n",
      "A37ZKKVUTG8R5A ['B00478O0JI', 'B001RQ2YF0', 'B00C4P8E3E', 'B00COYOAYW', 'B000CS1TLE']\n",
      "A2W1WFQ5ZJQCCK ['B002Q8IHDQ', 'B004LTEUDO', 'B002ZIMEMW', 'B00EXPSEFQ', 'B000Z80ICM']\n",
      "A153U9A5BCEMA ['B007PA1K84', 'B007R5YDYA', 'B0040JHVC2', 'B000062VUO', 'B008XV7VTG']\n",
      "AWADU4O1HU9OZ ['B005HGBEZ2', 'B0013DXVYK', 'B002EOVDII', 'B000EOPQ7E', 'B000LRMS66']\n",
      "A2UR1IKSG8OFWT ['B00DR0PDNE', 'B002Q8IHDQ', 'B004NQU4YY', 'B005EJH6RW', 'B0049S6ZUS']\n",
      "A21051ZGAVNR8K ['B005HMKKH4', 'B007P4YAPK', 'B009NHAEXE', 'B002ZIMEMW', 'B0006DPMU4']\n",
      "A2TD5YEGLHJILZ ['B001T9NUJE', 'B002Q8IHDQ', 'B0027VT6V4', 'B004RDWVUS', 'B00CMQTVK0']\n",
      "A17CWQGY13BIYK ['B002SGATH8', 'B000J01I1G', 'B004QK7HI8', 'B004W2JKWG', 'B000092YQW']\n",
      "ASAT83UY1KQ48 ['B009WA115M', 'B004XIT4NO', 'B005J7YA4G', 'B00CMQTVK0', 'B00478O0JI']\n",
      "A3QI5DVFHPS6Z5 ['B006OBGEHW', 'B007R5YDYA', 'B0040JHVC2', 'B00BWF5U0M', 'B0006DPMU4']\n",
      "AMW32SZMYJBQZ ['B006U1YUZE', 'B0049S6ZUS', 'B00EXPSEFQ', 'B003FVJYF8', 'B008MDSWI4']\n",
      "A3VY85I9GZHHCM ['B002Q8IHDQ', 'B0031GK3OI', 'B001O9X9EU', 'B004V4IWHY', 'B004T9RR6I']\n",
      "A2HULOFH7X7M6R ['B002Q8IHDQ', 'B005HGBEZ2', 'B00825BZUY', 'B003ELVLKU', 'B00CMQTVK0']\n",
      "A6U4XTHMH683R ['B009CP4PIW', 'B000J01I1G', 'B000062VUO', 'B00GTGETFG', 'B0040VGBYO']\n",
      "A1D3EOG54B9B78 ['B009NHAEXE', 'B001M5U5AC', 'B002EOVDII', 'B009A5204K', 'B002DU15TU']\n",
      "A3M6UTXMEGWDW4 ['B003ZYF3LO', 'B003DZ168E', 'B002EOVDII', 'B005HGBEZ2', 'B008XV7VTG']\n",
      "A1WPM53NCPT9UX ['B00C4P8E3E', 'B009NHAEXE', 'B007PA1K84', 'B002DW92IE', 'B00DR0PDNE']\n",
      "A25OQFQ5RTBP3B ['B006OBGEHW', 'B001T9NUJE', 'B000ID7QNI', 'B007P4YAPK', 'B006U1YVZ8']\n",
      "A2BKW9OFQOPBQ9 ['B008XV7VTG', 'B009XCCC52', 'B000Z80ICM', 'B0074BW614', 'B00BNIO4H8']\n",
      "A3JU3TE336EJ8E ['B00DR0PDNE', 'B004M5H660', 'B009NHAEXE', 'B009WA115M', 'B002SGATH8']\n",
      "A3K0IQCWUN6AW4 ['B004M5H660', 'B0040VGBYO', 'B007R5YDYA', 'B005KQ2O26', 'B000J01I1G']\n",
      "A26XUW8GPMJQVP ['B00825BZUY', 'B0046RE21G', 'B000LRMS66', 'B00C4P8E3E', 'B0018LX0DY']\n",
      "A1C6RZZ4BJBTQN ['B000EPNDEG', 'B007R5YDYA', 'B0040JHVC2', 'B002HWRJBM', 'B008MDSWI4']\n",
      "A18HE80910BTZI ['B001T9NUJE', 'B001PS9UKW', 'B00478O0JI', 'B007R5YDYA', 'B005KQ2O26']\n",
      "A19VXI9YYKM3SL ['B002V88HFE', 'B009WA115M', 'B003FVJYF8', 'B000J01I1G', 'B005EJH6RW']\n",
      "A2FKCP0T2HRPW4 ['B004RDWVUS', 'B0006DPMU4', 'B00GTGETFG', 'B009NHAEXE', 'B008THTWIW']\n",
      "A1CIVTDXDG1HKS ['B009GF0J2Y', 'B008GGH4FY', 'B0027VT6V4', 'B004NQU4YY', 'B0013CXZZ6']\n",
      "A1KY1HTSRBP2PD ['B00622AG6S', 'B002SGATH8', 'B002Q8IHDQ', 'B002EOVDII', 'B000Z80ICM']\n",
      "A86XA5CKKT0MI ['B009NHAEXE', 'B004RDWVUS', 'B008THTWIW', 'B00GTGETFG', 'B0062CBCGG']\n",
      "A2NUZ2KDNLLFN6 ['B00BWF5U0M', 'B000IJY8DS', 'B009Z3SVRM', 'B008XV7VTG', 'B002VJL0OS']\n",
      "A157ECREVK3JU6 ['B006OBGEHW', 'B000W09ZTK', 'B002VJL0OS', 'B000LRMS66', 'B003ELYQGG']\n",
      "A3GQHSRRY05YCA ['B0049S6ZUS', 'B0031GK3OI', 'B00080G0BK', 'B008MDSWI4', 'B008XV7VTG']\n",
      "A3VF16QT746QMI ['B001O9X9EU', 'B00006B7DA', 'B004RDWVUS', 'B003DZ168E', 'B0006DPMU4']\n",
      "A1WYVZW8YEQXWB ['B002VJL0OS', 'B005EJH6RW', 'B002EOVDII', 'B00698ZUHK', 'B005B6O3LU']\n",
      "A1LJWBO9H9DA7V ['B0027VT6V4', 'B00007EDZG', 'B001ELJ9QK', 'B00DR0PDNE', 'B0035FZJHQ']\n",
      "ATBGWLJ0Y03AS ['B002Q8IHDQ', 'B007PA1K84', 'B002EOVDII', 'B00GTGETFG', 'B005HGBEZ2']\n",
      "A1LEPTGTJP251I ['B007R5YDYA', 'B001M5U5AC', 'B004RDWVUS', 'B0035FZJHQ', 'B002SGATH8']\n",
      "A2ICFEOAR9SJXB ['B005DIBHA6', 'B000LRMS66', 'B0006DPMU4', 'B009WA115M', 'B00DVFLJDS']\n",
      "AZX0MB8PXMD2N ['B009NHAEXE', 'B00825BZUY', 'B002Q8IHDQ', 'B007R5YDYA', 'B008D2POAS']\n",
      "A1PQ1B6U0XWWHE ['B008MDSWI4', 'B004T9RR6I', 'B006OBGEHW', 'B005J7YA4G', 'B00825BZUY']\n",
      "AMKCFZ13TEZAO ['B00DVFLJDS', 'B00CMQTVK0', 'B001M5U5AC', 'B005DIBHA6', 'B003WGJYCY']\n",
      "ADZ0OM7OM83IQ ['B00CDIK908', 'B004NQU4YY', 'B005DIBHA6', 'B002RM08RE', 'B00DVFLJDS']\n",
      "A1LI9AMQLR70UP ['B00COYOAYW', 'B00DR0PDNE', 'B005HMKKH4', 'B00BDS3N1G', 'B00728ZC1K']\n",
      "A4KKGTTXIIE2O ['B003FVJYF8', 'B002Q8IHDQ', 'B008D2POAS', 'B000W09ZTK', 'B005B6O3LU']\n",
      "A21NS06GDEA3V0 ['B002Q8IHDQ', 'B001M5U5AC', 'B003FVJYF8', 'B005FJ7OF0', 'B001ELJ9QK']\n",
      "AJOEXRKAXFQLL ['B00C4Q61Z6', 'B00FB45SI4', 'B00BDS3N1G', 'B003ELVLKU', 'B000062VUO']\n",
      "A3JN2TNHC8X9Q9 ['B007M506WS', 'B0006DPMU4', 'B008D2POAS', 'B005HGBEZ2', 'B004XIT4NO']\n",
      "A1V7MUGPA9FTVA ['B007P4YAPK', 'B007R5YDYA', 'B004NQU4YY', 'B000UEZ36W', 'B00DR0PDNE']\n",
      "A22CBGQ57PWG58 ['B0006DPMU4', 'B005HGBEZ2', 'B003DZ168E', 'B002EOVDII', 'B00BT7RAPG']\n",
      "ABISYTSTIYH8P ['B00007EDZG', 'B0027VT6V4', 'B0041OSQB6', 'B008GGH4FY', 'B0062CBCGG']\n",
      "A284FFCHS1NGB1 ['B000Z80ICM', 'B0049S6ZUS', 'B004W2JKWG', 'B001ELJ9QK', 'B005HMKKH4']\n",
      "A29VS2UO9XZNJA ['B0031GK3OI', 'B000Z80ICM', 'B00825BZUY', 'B0066636AS', 'B004LTEUDO']\n",
      "ANM5QR06DR5XH ['B0074BW614', 'B00825BZUY', 'B002EOVDII', 'B000BQ7GW8', 'B00DVFLJDS']\n",
      "A1J7LKMZG3ZVLU ['B001M5U5AC', 'B0035FZJHQ', 'B004LTEUDO', 'B00B588HY2', 'B00080G0BK']\n",
      "A3IKWUOJ1S3LSD ['B001RQ2YF0', 'B004W2JKWG', 'B00DVFLJDS', 'B007R5YDYA', 'B003LR7ME6']\n",
      "A3U5NQ8QZAIHF0 ['B000062VUO', 'B003WGJYCY', 'B001RQ2YF0', 'B0041OSQB6', 'B002SGATH8']\n",
      "A2ID5RUVTIL8XG ['B006OBGEHW', 'B009613MVS', 'B000EOPQ7E', 'B0027VT6V4', 'B001T9NUJE']\n",
      "A9UT71FVHGKV4 ['B004RDWVUS', 'B009XCCC52', 'B000BQ7GW8', 'B002RM08RE', 'B008D2POAS']\n",
      "A2ICCIUXNN2ATA ['B0062CBCGG', 'B00478O0JI', 'B000BQ7GW8', 'B00B588HY2', 'B00FB45SI4']\n",
      "A3FJRRZ93QSCX ['B00B588HY2', 'B005HGBEZ2', 'B007R5YDYA', 'B000LRMS66', 'B002Q8IHDQ']\n",
      "A1PQB0554RYUVL ['B00COYOAYW', 'B002EOVDII', 'B007R5YDYA', 'B005EJH6RW', 'B008LURQ76']\n",
      "ASPL5VEGJR2DC ['B001T9NUJE', 'B002RM08RE', 'B004TLH7C0', 'B009A5204K', 'B00698ZUHK']\n",
      "A2EBYJJ6RXP0ZZ ['B0062CBCGG', 'B007M506WS', 'B00FB45SI4', 'B005J7YA4G', 'B004XIT4NO']\n",
      "ARNVTOUZSPP0G ['B0062CBCGG', 'B0066636AS', 'B003ELYQGG', 'B009WA115M', 'B002SGATH8']\n",
      "ACZX1BUEGPPG0 ['B00B8A43CC', 'B0041OSQB6', 'B008XV7VTG', 'B00DVFLJDS', 'B003FVJYF8']\n",
      "A3Q09KFIOWZRR9 ['B000ID7QNI', 'B003ELYQGG', 'B005DIBHA6', 'B0040VGBYO', 'B002Q8IHDQ']\n",
      "A3EJ6H3W0IUSPD ['B000Z80ICM', 'B001RQ2YF0', 'B009SD74H2', 'B00GTGETFG', 'B00CDIK908']\n",
      "A2SIX5GUWFLUNN ['B007PA1K84', 'B002QEBMAK', 'B000062VUO', 'B002Q8IHDQ', 'B00E055H5O']\n",
      "A3AEHM4ABSUDEV ['B000Z80ICM', 'B007R5YDYA', 'B000UEZ36W', 'B002VJL0OS', 'B005B6O3LU']\n"
     ]
    }
   ],
   "source": [
    "for uid, user_ratings in top_5.items():\n",
    "    print(uid, [iid for (iid, _) in user_ratings])"
   ]
  },
  {
   "cell_type": "markdown",
   "metadata": {
    "papermill": {
     "duration": 0.057708,
     "end_time": "2020-09-20T18:37:17.625253",
     "exception": false,
     "start_time": "2020-09-20T18:37:17.567545",
     "status": "completed"
    },
    "tags": []
   },
   "source": [
    "**Observation :**\n",
    "1. We have 1st explored the basic EDA where we got to know the large no of users rated 5 and we have considered the products minimum of 50 users reviewed.\n",
    "2. We used a  popularity based recommender model where we recommended top 5 products where we had cold start problem.(No user info/user insight availble)\n",
    "3. We have developed a Collaborative Filtering model where we recommended similar users with similar products and similar product items to different users. We call it user-user and item-item collaborative filtering model. For similarity we have used pearson correlation but we can use cosine similarity also to find out distance between our feature vectors.\n",
    "4. We have also used Matrix factorization or SVD (Singular Vector Decomposition) to develop a model where we can recommend set of 5 products to each individual users.\n",
    "\n",
    "Note : I am not sure if we can use apriori or market basket analysis to recommend products. Please do let me know if we can use market basket analysis here too. My idea is we don't have support or lift data required or a kind of basket available in the form of input data. Please vote up if you found helpful and happy learning!\n",
    "    "
   ]
  },
  {
   "cell_type": "code",
   "execution_count": null,
   "metadata": {
    "papermill": {
     "duration": 0.057564,
     "end_time": "2020-09-20T18:37:17.740564",
     "exception": false,
     "start_time": "2020-09-20T18:37:17.683000",
     "status": "completed"
    },
    "tags": []
   },
   "outputs": [],
   "source": []
  }
 ],
 "metadata": {
  "kernelspec": {
   "display_name": "Python 3",
   "language": "python",
   "name": "python3"
  },
  "language_info": {
   "codemirror_mode": {
    "name": "ipython",
    "version": 3
   },
   "file_extension": ".py",
   "mimetype": "text/x-python",
   "name": "python",
   "nbconvert_exporter": "python",
   "pygments_lexer": "ipython3",
   "version": "3.7.6"
  },
  "papermill": {
   "duration": 93.51562,
   "end_time": "2020-09-20T18:37:18.005883",
   "environment_variables": {},
   "exception": null,
   "input_path": "__notebook__.ipynb",
   "output_path": "__notebook__.ipynb",
   "parameters": {},
   "start_time": "2020-09-20T18:35:44.490263",
   "version": "2.1.0"
  }
 },
 "nbformat": 4,
 "nbformat_minor": 4
}
